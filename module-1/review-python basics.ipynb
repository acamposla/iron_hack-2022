{
 "cells": [
  {
   "cell_type": "markdown",
   "metadata": {},
   "source": [
    "# List Comprehensions\n",
    "\n",
    "List comprehensions are just a different syntax for writing `for` loops.\n",
    "\n",
    "It is used to generate a list, which will always be it's output.\n",
    "\n",
    "It either applies an operation on all the elements of an **iterable**, uses `if` conditions to filter or **ternaries** to choose."
   ]
  },
  {
   "cell_type": "markdown",
   "metadata": {},
   "source": [
    "## Basic List Comprehension"
   ]
  },
  {
   "cell_type": "code",
   "execution_count": 1,
   "metadata": {},
   "outputs": [
    {
     "data": {
      "text/plain": [
       "['John😷', 'Mike😷', 'Marcia😷', 'Lily😷', 'Greg😷']"
      ]
     },
     "execution_count": 1,
     "metadata": {},
     "output_type": "execute_result"
    }
   ],
   "source": [
    "students = [\"John\", \"Mike\", \"Marcia\", \"Lily\", \"Greg\"]\n",
    "campus = []\n",
    "for stud in students:\n",
    "    stud = stud+\"😷\"\n",
    "    campus.append(stud)\n",
    "campus"
   ]
  },
  {
   "cell_type": "markdown",
   "metadata": {},
   "source": [
    "## Anatomy of a List Comprehension\n",
    "\n",
    "`[            ]`\n",
    "\n",
    "- Indicate it will output a list\n",
    "\n",
    "`[  <result>      for      <element>      in       <iterable>  ]`\n",
    "\n",
    "- We will **always** a for loop in a list comprehension.\n",
    "\n",
    "- A **for** loop requires an iterable\n",
    "\n",
    "<iterable\\> : The data we are iterating (list, tuple, range, map, iter, etc.)\n",
    "   \n",
    "<element\\> : Name of variable that will contain (each at a time) the elements of the iterable\n",
    "    \n",
    "<result\\> : Each of the elements of the resulting list (from list comprehension)"
   ]
  },
  {
   "cell_type": "markdown",
   "metadata": {},
   "source": [
    "Adding masks to all students"
   ]
  },
  {
   "cell_type": "code",
   "execution_count": 2,
   "metadata": {},
   "outputs": [
    {
     "data": {
      "text/plain": [
       "['John😷', 'Mike😷', 'Marcia😷', 'Lily😷', 'Greg😷']"
      ]
     },
     "execution_count": 2,
     "metadata": {},
     "output_type": "execute_result"
    }
   ],
   "source": [
    "campus = [stud+\"😷\" for stud in students]\n",
    "campus"
   ]
  },
  {
   "cell_type": "markdown",
   "metadata": {},
   "source": [
    "**List comprehension on the \"<result\\>\"**\n",
    "\n",
    "Ex: Get only the vowels of students names\n",
    "\n",
    "`NOTE: It is a list comprehension where each of its values is a list comprehension on itself`"
   ]
  },
  {
   "cell_type": "code",
   "execution_count": 3,
   "metadata": {},
   "outputs": [
    {
     "data": {
      "text/plain": [
       "[['o'], ['i', 'e'], ['a', 'i', 'a'], ['i'], ['e']]"
      ]
     },
     "execution_count": 3,
     "metadata": {},
     "output_type": "execute_result"
    }
   ],
   "source": [
    "vowels = [ [letter for letter in stud if letter in \"aeiou\"] for stud in students]\n",
    "vowels"
   ]
  },
  {
   "cell_type": "markdown",
   "metadata": {},
   "source": [
    "**List comprehension on the **\"<iterable\\>\"**\n",
    "\n",
    "Ex: Reverse the name of all masked students"
   ]
  },
  {
   "cell_type": "code",
   "execution_count": 4,
   "metadata": {},
   "outputs": [
    {
     "data": {
      "text/plain": [
       "['😷nhoJ', '😷ekiM', '😷aicraM', '😷yliL', '😷gerG']"
      ]
     },
     "execution_count": 4,
     "metadata": {},
     "output_type": "execute_result"
    }
   ],
   "source": [
    "[ stud_mask[::-1] for stud_mask in [stud+\"😷\" for stud in students] ]"
   ]
  },
  {
   "cell_type": "markdown",
   "metadata": {},
   "source": [
    "It is equivalent to storing inner list comp in a variable and doing the outer over said variable"
   ]
  },
  {
   "cell_type": "code",
   "execution_count": 5,
   "metadata": {},
   "outputs": [
    {
     "data": {
      "text/plain": [
       "['😷nhoJ', '😷ekiM', '😷aicraM', '😷yliL', '😷gerG']"
      ]
     },
     "execution_count": 5,
     "metadata": {},
     "output_type": "execute_result"
    }
   ],
   "source": [
    "campus = [stud+\"😷\" for stud in students]\n",
    "[ stud_mask[::-1] for stud_mask in campus ]"
   ]
  },
  {
   "cell_type": "markdown",
   "metadata": {},
   "source": [
    "### Nested List Comprehension\n",
    "\n",
    "When all the elements of an iterable are themselves iterable, you can access them directly with nested list comps."
   ]
  },
  {
   "cell_type": "code",
   "execution_count": 6,
   "metadata": {},
   "outputs": [],
   "source": [
    "# Classic example: Flattening\n",
    "# Flattening is the act of converting a multidimension array into a single dimension\n",
    "\n",
    "M = [[1,2,3],\n",
    "     [4,5,6],\n",
    "     [7,8,9]]"
   ]
  },
  {
   "cell_type": "code",
   "execution_count": 7,
   "metadata": {},
   "outputs": [
    {
     "data": {
      "text/plain": [
       "[1, 2, 3, 4, 5, 6, 7, 8, 9]"
      ]
     },
     "execution_count": 7,
     "metadata": {},
     "output_type": "execute_result"
    }
   ],
   "source": [
    "values = []\n",
    "for row in M:\n",
    "    for element in row:\n",
    "        values.append(element)\n",
    "values"
   ]
  },
  {
   "cell_type": "code",
   "execution_count": 8,
   "metadata": {},
   "outputs": [
    {
     "data": {
      "text/plain": [
       "[1, 2, 3, 4, 5, 6, 7, 8, 9]"
      ]
     },
     "execution_count": 8,
     "metadata": {},
     "output_type": "execute_result"
    }
   ],
   "source": [
    "[element for row in M for element in row]"
   ]
  },
  {
   "cell_type": "markdown",
   "metadata": {},
   "source": [
    "`NOTE: Nested loops must be ordered from the outmost to the innermost.`"
   ]
  },
  {
   "cell_type": "code",
   "execution_count": 9,
   "metadata": {},
   "outputs": [],
   "source": [
    "M = [\n",
    "    [\n",
    "        [1,2,3],[4,5,6],[7,8,9]\n",
    "    ],\n",
    "    [\n",
    "        [1,2,3],[4,5,6],[7,8,9]\n",
    "    ],\n",
    "]"
   ]
  },
  {
   "cell_type": "code",
   "execution_count": 10,
   "metadata": {},
   "outputs": [
    {
     "data": {
      "text/plain": [
       "[1, 2, 3, 4, 5, 6, 7, 8, 9, 1, 2, 3, 4, 5, 6, 7, 8, 9]"
      ]
     },
     "execution_count": 10,
     "metadata": {},
     "output_type": "execute_result"
    }
   ],
   "source": [
    "[element for sub_matrix in M for row in sub_matrix for element in row]"
   ]
  },
  {
   "cell_type": "markdown",
   "metadata": {},
   "source": [
    "## Filtering with a list comprehension\n",
    "\n",
    "`[  <result>  for  <element>  in  <iterable>       if       <condition>]`\n",
    "\n",
    "- If we want to filter a list comprehension, we must put an `if` at the end.\n",
    "\n",
    "- There is no possibility to use an else.\n",
    "\n",
    "\n",
    "<condition\\> : some operation that returns True or False for each element of iterable\n",
    "\n",
    "`0 <= len(list_comp) <= len(iterable)`"
   ]
  },
  {
   "cell_type": "code",
   "execution_count": 11,
   "metadata": {},
   "outputs": [
    {
     "data": {
      "text/plain": [
       "['John😷', 'Mike😷', 'Marcia😷', 'Lily😷', 'Greg😷']"
      ]
     },
     "execution_count": 11,
     "metadata": {},
     "output_type": "execute_result"
    }
   ],
   "source": [
    "campus"
   ]
  },
  {
   "cell_type": "code",
   "execution_count": 12,
   "metadata": {},
   "outputs": [
    {
     "data": {
      "text/plain": [
       "['Mike😷🏥', 'Marcia😷🏥', 'Greg😷🏥']"
      ]
     },
     "execution_count": 12,
     "metadata": {},
     "output_type": "execute_result"
    }
   ],
   "source": [
    "vaccines = [stud+\"🏥\" for stud in campus if (\"a\" in stud) or (\"e\" in stud)]\n",
    "vaccines"
   ]
  },
  {
   "cell_type": "code",
   "execution_count": 13,
   "metadata": {},
   "outputs": [
    {
     "data": {
      "text/plain": [
       "[]"
      ]
     },
     "execution_count": 13,
     "metadata": {},
     "output_type": "execute_result"
    }
   ],
   "source": [
    "[stud for stud in campus if \"z\" in stud]"
   ]
  },
  {
   "cell_type": "code",
   "execution_count": 14,
   "metadata": {},
   "outputs": [
    {
     "data": {
      "text/plain": [
       "['John😷', 'Mike😷', 'Marcia😷', 'Lily😷', 'Greg😷']"
      ]
     },
     "execution_count": 14,
     "metadata": {},
     "output_type": "execute_result"
    }
   ],
   "source": [
    "[stud for stud in campus if True]"
   ]
  },
  {
   "cell_type": "markdown",
   "metadata": {},
   "source": [
    "## Ternary list comprehension"
   ]
  },
  {
   "cell_type": "markdown",
   "metadata": {},
   "source": [
    "### What is a ternary?\n",
    "It is asigning a variable based on a condition"
   ]
  },
  {
   "cell_type": "code",
   "execution_count": 15,
   "metadata": {},
   "outputs": [
    {
     "data": {
      "text/plain": [
       "True"
      ]
     },
     "execution_count": 15,
     "metadata": {},
     "output_type": "execute_result"
    }
   ],
   "source": [
    "temp = 28\n",
    "if temp >=25:\n",
    "    is_hot = True\n",
    "else:\n",
    "    is_hot = False\n",
    "is_hot"
   ]
  },
  {
   "cell_type": "code",
   "execution_count": 16,
   "metadata": {},
   "outputs": [
    {
     "data": {
      "text/plain": [
       "False"
      ]
     },
     "execution_count": 16,
     "metadata": {},
     "output_type": "execute_result"
    }
   ],
   "source": [
    "temp = 22\n",
    "is_hot = True if temp >= 25 else False\n",
    "is_hot"
   ]
  },
  {
   "cell_type": "code",
   "execution_count": 17,
   "metadata": {},
   "outputs": [
    {
     "data": {
      "text/plain": [
       "'good'"
      ]
     },
     "execution_count": 17,
     "metadata": {},
     "output_type": "execute_result"
    }
   ],
   "source": [
    "# You can't use `elif` on a ternary\n",
    "\n",
    "temp = 18\n",
    "feel = \"cold\" if temp <= 15 else \"good\" if 15 < temp <= 25 else \"hot\"\n",
    "feel"
   ]
  },
  {
   "cell_type": "markdown",
   "metadata": {},
   "source": [
    "`[  <result> if <condition> else <result2> for  <element>  in  <iterable> ]`\n",
    "\n",
    "- If we want to chose between 2 or more options\n",
    "\n",
    "- Mandatory to use else\n",
    "\n",
    "\n",
    "<condition\\> : some operation that returns True or False for each element of iterable\n",
    "\n",
    "len(list_comp) == len(iterable)"
   ]
  },
  {
   "cell_type": "code",
   "execution_count": 18,
   "metadata": {},
   "outputs": [
    {
     "data": {
      "text/plain": [
       "['John😷', 'Mike😷', 'Marcia😷', 'Lily😷', 'Greg😷']"
      ]
     },
     "execution_count": 18,
     "metadata": {},
     "output_type": "execute_result"
    }
   ],
   "source": [
    "campus"
   ]
  },
  {
   "cell_type": "code",
   "execution_count": 19,
   "metadata": {},
   "outputs": [
    {
     "data": {
      "text/plain": [
       "['John😷👀', 'Mike😷💉', 'Marcia😷💉', 'Lily😷👀', 'Greg😷💉']"
      ]
     },
     "execution_count": 19,
     "metadata": {},
     "output_type": "execute_result"
    }
   ],
   "source": [
    "[ stud+\"💉\" if (\"a\" in stud) or (\"e\" in stud) else stud+\"👀\" for stud in campus]"
   ]
  },
  {
   "cell_type": "markdown",
   "metadata": {},
   "source": [
    "## Exercises\n",
    "- Find all of the numbers from 1-1000 that are divisible by 7\n",
    "- Find all of the numbers from 1-1000 that have a 3 in them\n",
    "- Count the number of spaces in a string \"The quick brown fox jumps over the lazy dog\"\n",
    "- Create a list of all the consonants in the string “Yellow Yaks like yelling and yawning and yesturday they yodled while eating yuky yams”\n",
    "- Get the index and the value as a tuple for items in the list [\"hi\", 4, 8.99, \"apple\", (\"t,b\",\"n\")]. Result would look like [(index, value), (index, value)]\n",
    "- Find the common numbers in two lists (without using a tuple or set) list_a = [1, 2, 3, 4] list_b = [2, 3, 4, 5]\n",
    "- Get only the numbers in a sentence like 'In 1984 there were 13 instances of a protest with over 1000 people attending'"
   ]
  },
  {
   "cell_type": "code",
   "execution_count": null,
   "metadata": {},
   "outputs": [],
   "source": []
  },
  {
   "cell_type": "code",
   "execution_count": null,
   "metadata": {},
   "outputs": [],
   "source": []
  },
  {
   "cell_type": "code",
   "execution_count": null,
   "metadata": {},
   "outputs": [],
   "source": []
  },
  {
   "cell_type": "code",
   "execution_count": null,
   "metadata": {},
   "outputs": [],
   "source": []
  },
  {
   "cell_type": "code",
   "execution_count": null,
   "metadata": {},
   "outputs": [],
   "source": []
  },
  {
   "cell_type": "markdown",
   "metadata": {},
   "source": [
    "# Map, Filter, Reduce\n",
    "These functions are very useful means of doing the same as **loops** and **list comprehension**, with the exception of reduce, which is suposed to apply a function over all the elements of a list pair by pair, resulting in a single object.\n",
    "\n",
    "- map and filter : return iterators (list-like)\n",
    "    - map : output will have the same length as input\n",
    "    - filter :  0 <= len(output) <= len(input)\n",
    "- reduce : returns a **single** element (even if this element is a list)"
   ]
  },
  {
   "cell_type": "markdown",
   "metadata": {},
   "source": [
    "## map"
   ]
  },
  {
   "cell_type": "code",
   "execution_count": 20,
   "metadata": {},
   "outputs": [],
   "source": [
    "def put_mask(person):\n",
    "    return person + \"😷\""
   ]
  },
  {
   "cell_type": "code",
   "execution_count": 21,
   "metadata": {},
   "outputs": [
    {
     "data": {
      "text/plain": [
       "'Irene😷'"
      ]
     },
     "execution_count": 21,
     "metadata": {},
     "output_type": "execute_result"
    }
   ],
   "source": [
    "put_mask(\"Irene\")"
   ]
  },
  {
   "cell_type": "code",
   "execution_count": 22,
   "metadata": {},
   "outputs": [
    {
     "data": {
      "text/plain": [
       "['John😷', 'Mike😷', 'Marcia😷', 'Lily😷', 'Greg😷']"
      ]
     },
     "execution_count": 22,
     "metadata": {},
     "output_type": "execute_result"
    }
   ],
   "source": [
    "[put_mask(stud) for stud in students]"
   ]
  },
  {
   "cell_type": "code",
   "execution_count": 23,
   "metadata": {},
   "outputs": [
    {
     "data": {
      "text/plain": [
       "<map at 0x102eeb100>"
      ]
     },
     "execution_count": 23,
     "metadata": {},
     "output_type": "execute_result"
    }
   ],
   "source": [
    "masked = map(put_mask, students)\n",
    "masked"
   ]
  },
  {
   "cell_type": "code",
   "execution_count": 24,
   "metadata": {},
   "outputs": [
    {
     "data": {
      "text/plain": [
       "['John😷', 'Mike😷', 'Marcia😷', 'Lily😷', 'Greg😷']"
      ]
     },
     "execution_count": 24,
     "metadata": {},
     "output_type": "execute_result"
    }
   ],
   "source": [
    "list(masked)"
   ]
  },
  {
   "cell_type": "code",
   "execution_count": 25,
   "metadata": {},
   "outputs": [
    {
     "data": {
      "text/plain": [
       "[4, 4, 6, 4, 4]"
      ]
     },
     "execution_count": 25,
     "metadata": {},
     "output_type": "execute_result"
    }
   ],
   "source": [
    "list(map(len,students))"
   ]
  },
  {
   "cell_type": "code",
   "execution_count": 26,
   "metadata": {},
   "outputs": [
    {
     "data": {
      "text/plain": [
       "['JOHN', 'MIKE', 'MARCIA', 'LILY', 'GREG']"
      ]
     },
     "execution_count": 26,
     "metadata": {},
     "output_type": "execute_result"
    }
   ],
   "source": [
    "list(map( lambda stud: stud.upper() ,students))"
   ]
  },
  {
   "cell_type": "markdown",
   "metadata": {},
   "source": [
    "## Lambda function\n",
    "\n",
    "```python\n",
    "def function_name(args):\n",
    "    operations()\n",
    "    return result\n",
    "```\n",
    "----\n",
    "```python\n",
    "# Lambda functions have no name\n",
    "\n",
    "lambda args: result\n",
    "```"
   ]
  },
  {
   "cell_type": "markdown",
   "metadata": {},
   "source": [
    "## Filter"
   ]
  },
  {
   "cell_type": "code",
   "execution_count": 27,
   "metadata": {},
   "outputs": [],
   "source": [
    "def is_prime(x):\n",
    "    for div in range(2,x//2):\n",
    "        if x%div==0:\n",
    "            return False\n",
    "    return True"
   ]
  },
  {
   "cell_type": "code",
   "execution_count": 28,
   "metadata": {},
   "outputs": [
    {
     "data": {
      "text/plain": [
       "False"
      ]
     },
     "execution_count": 28,
     "metadata": {},
     "output_type": "execute_result"
    }
   ],
   "source": [
    "is_prime(4567813476)"
   ]
  },
  {
   "cell_type": "code",
   "execution_count": 29,
   "metadata": {},
   "outputs": [
    {
     "data": {
      "text/plain": [
       "[3,\n",
       " 4,\n",
       " 5,\n",
       " 7,\n",
       " 11,\n",
       " 13,\n",
       " 17,\n",
       " 19,\n",
       " 23,\n",
       " 29,\n",
       " 31,\n",
       " 37,\n",
       " 41,\n",
       " 43,\n",
       " 47,\n",
       " 53,\n",
       " 59,\n",
       " 61,\n",
       " 67,\n",
       " 71,\n",
       " 73,\n",
       " 79,\n",
       " 83,\n",
       " 89,\n",
       " 97]"
      ]
     },
     "execution_count": 29,
     "metadata": {},
     "output_type": "execute_result"
    }
   ],
   "source": [
    "[num for num in range(3,100) if is_prime(num)]"
   ]
  },
  {
   "cell_type": "code",
   "execution_count": 30,
   "metadata": {},
   "outputs": [
    {
     "data": {
      "text/plain": [
       "<filter at 0x102eeb610>"
      ]
     },
     "execution_count": 30,
     "metadata": {},
     "output_type": "execute_result"
    }
   ],
   "source": [
    "primes = filter(is_prime, range(3,100))\n",
    "primes"
   ]
  },
  {
   "cell_type": "code",
   "execution_count": 31,
   "metadata": {},
   "outputs": [
    {
     "data": {
      "text/plain": [
       "[3,\n",
       " 4,\n",
       " 5,\n",
       " 7,\n",
       " 11,\n",
       " 13,\n",
       " 17,\n",
       " 19,\n",
       " 23,\n",
       " 29,\n",
       " 31,\n",
       " 37,\n",
       " 41,\n",
       " 43,\n",
       " 47,\n",
       " 53,\n",
       " 59,\n",
       " 61,\n",
       " 67,\n",
       " 71,\n",
       " 73,\n",
       " 79,\n",
       " 83,\n",
       " 89,\n",
       " 97]"
      ]
     },
     "execution_count": 31,
     "metadata": {},
     "output_type": "execute_result"
    }
   ],
   "source": [
    "list(primes)"
   ]
  },
  {
   "cell_type": "markdown",
   "metadata": {},
   "source": [
    "## Reduce\n",
    "\n",
    "`<iterable> => <function> => <single_value>`\n",
    "\n",
    "- <function\\> must receive 2 parameters! e.g.: **a**,**b**.\n",
    "    - The return value of <function\\> will be the **a** on the next iteration"
   ]
  },
  {
   "cell_type": "code",
   "execution_count": 32,
   "metadata": {},
   "outputs": [
    {
     "name": "stdout",
     "output_type": "stream",
     "text": [
      "First iteration\n",
      "x:1,y:2\n",
      "res:3\n",
      "----------------------------------------\n",
      "Second iteration\n",
      "x:3,y:3\n",
      "res:6\n",
      "----------------------------------------\n",
      "Third iteration\n",
      "x:6,y:4\n",
      "res:10\n",
      "----------------------------------------\n",
      "len(lst) : 0\n",
      "Final result: 10\n"
     ]
    }
   ],
   "source": [
    "# Inside the mind of the reduce function\n",
    "lst = [1,2,3,4]\n",
    "function = lambda a,b : a+b\n",
    "x = lst.pop(0)\n",
    "y = lst.pop(0)\n",
    "print(\"First iteration\")\n",
    "print(f\"x:{x},y:{y}\")\n",
    "res = function(x,y)\n",
    "print(f\"res:{res}\")\n",
    "print(\"-\"*40)\n",
    "\n",
    "x = res\n",
    "y = lst.pop(0)\n",
    "print(\"Second iteration\")\n",
    "print(f\"x:{x},y:{y}\")\n",
    "res = function(x,y)\n",
    "print(f\"res:{res}\")\n",
    "print(\"-\"*40)\n",
    "\n",
    "x = res\n",
    "y = lst.pop(0)\n",
    "print(\"Third iteration\")\n",
    "print(f\"x:{x},y:{y}\")\n",
    "res = function(x,y)\n",
    "print(f\"res:{res}\")\n",
    "print(\"-\"*40)\n",
    "\n",
    "print(f\"len(lst) : {len(lst)}\")\n",
    "print(f\"Final result: {res}\")"
   ]
  },
  {
   "cell_type": "code",
   "execution_count": 33,
   "metadata": {},
   "outputs": [],
   "source": [
    "from functools import reduce"
   ]
  },
  {
   "cell_type": "code",
   "execution_count": 34,
   "metadata": {},
   "outputs": [
    {
     "data": {
      "text/plain": [
       "10"
      ]
     },
     "execution_count": 34,
     "metadata": {},
     "output_type": "execute_result"
    }
   ],
   "source": [
    "# sum([1,2,3,4])\n",
    "reduce(lambda x, y: x+y, [1,2,3,4])"
   ]
  },
  {
   "cell_type": "code",
   "execution_count": 35,
   "metadata": {},
   "outputs": [
    {
     "data": {
      "text/plain": [
       "24"
      ]
     },
     "execution_count": 35,
     "metadata": {},
     "output_type": "execute_result"
    }
   ],
   "source": [
    "reduce(lambda x, y: x*y, [1,2,3,4])"
   ]
  },
  {
   "cell_type": "code",
   "execution_count": 36,
   "metadata": {},
   "outputs": [],
   "source": [
    "def factorial(x):\n",
    "    return reduce(lambda x, y: x*y, range(2,x+1))"
   ]
  },
  {
   "cell_type": "code",
   "execution_count": 37,
   "metadata": {},
   "outputs": [
    {
     "data": {
      "text/plain": [
       "40320"
      ]
     },
     "execution_count": 37,
     "metadata": {},
     "output_type": "execute_result"
    }
   ],
   "source": [
    "factorial(8)"
   ]
  },
  {
   "cell_type": "code",
   "execution_count": 38,
   "metadata": {},
   "outputs": [
    {
     "data": {
      "text/plain": [
       "'Welcome:        John😷        Mike😷        Marcia😷        Lily😷        Greg😷'"
      ]
     },
     "execution_count": 38,
     "metadata": {},
     "output_type": "execute_result"
    }
   ],
   "source": [
    "# \"        \".join(campus)\n",
    "reduce(lambda a,b: f\"{a}        {b}\", campus, \"Welcome:\")"
   ]
  },
  {
   "cell_type": "markdown",
   "metadata": {},
   "source": [
    "### Bonus\n",
    "\n",
    "Reduce returns a single element!!!!\n",
    "\n",
    "But....\n",
    "\n",
    "That element can be a list"
   ]
  },
  {
   "cell_type": "code",
   "execution_count": 39,
   "metadata": {},
   "outputs": [],
   "source": [
    "def fibb(lst, _):\n",
    "    lst.append(sum(lst[-2:]))\n",
    "    return lst"
   ]
  },
  {
   "cell_type": "code",
   "execution_count": 40,
   "metadata": {},
   "outputs": [
    {
     "data": {
      "text/plain": [
       "[1, 1, 2, 3, 5, 8, 13, 21, 34, 55]"
      ]
     },
     "execution_count": 40,
     "metadata": {},
     "output_type": "execute_result"
    }
   ],
   "source": [
    "x = 10\n",
    "reduce(fibb, range(x-2), [1,1])"
   ]
  },
  {
   "cell_type": "code",
   "execution_count": null,
   "metadata": {},
   "outputs": [],
   "source": []
  }
 ],
 "metadata": {
  "kernelspec": {
   "display_name": "Python 3 (ipykernel)",
   "language": "python",
   "name": "python3"
  },
  "language_info": {
   "codemirror_mode": {
    "name": "ipython",
    "version": 3
   },
   "file_extension": ".py",
   "mimetype": "text/x-python",
   "name": "python",
   "nbconvert_exporter": "python",
   "pygments_lexer": "ipython3",
   "version": "3.12.2"
  },
  "toc": {
   "base_numbering": 1,
   "nav_menu": {},
   "number_sections": true,
   "sideBar": true,
   "skip_h1_title": false,
   "title_cell": "Table of Contents",
   "title_sidebar": "Contents",
   "toc_cell": false,
   "toc_position": {},
   "toc_section_display": true,
   "toc_window_display": false
  }
 },
 "nbformat": 4,
 "nbformat_minor": 4
}
