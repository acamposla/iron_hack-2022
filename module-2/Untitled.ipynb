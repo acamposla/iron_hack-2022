{
 "cells": [
  {
   "cell_type": "code",
   "execution_count": 4,
   "id": "c877b0bc-cb62-4ddc-866a-b3cf36b3bbd0",
   "metadata": {},
   "outputs": [],
   "source": [
    "import pandas as pd\n",
    "import numpy as np\n",
    "\n",
    "import matplotlib.pyplot as plt\n",
    "import seaborn as sns\n",
    "\n",
    "np.random.seed(123)\n"
   ]
  },
  {
   "cell_type": "code",
   "execution_count": 50,
   "id": "3ec61c6c-81dd-41a2-87f0-b5cfe8a9f56c",
   "metadata": {},
   "outputs": [
    {
     "data": {
      "text/plain": [
       "array([5, 1, 3, 2, 4, 3, 3, 5, 2, 1, 4, 4, 6, 1, 2, 3, 3, 3, 4, 1, 2, 3,\n",
       "       4, 6, 1, 6, 1, 4, 5, 5, 3, 6, 4, 1, 4, 6, 4, 2, 5, 1, 5, 5, 3, 6,\n",
       "       6, 2, 1, 5, 4, 3, 2, 5, 2, 4, 6, 1, 4, 1, 4, 2, 1, 5, 3, 2, 4, 3,\n",
       "       3, 3, 6, 1, 6, 2, 4, 4, 6, 3, 3, 1, 3, 3, 5, 2, 5, 1, 4, 6, 3, 4,\n",
       "       1, 6, 6, 5, 4, 3, 4, 6, 1, 1, 2, 6, 6, 3, 4, 1, 5, 6, 1, 4, 1, 4,\n",
       "       5, 1, 3, 4, 1, 6, 3, 2, 2, 6, 4, 6, 2, 3, 4, 5, 4, 4, 4, 2, 5, 5,\n",
       "       6, 1, 3, 4, 3, 5, 3, 5, 5, 6, 6, 3, 5, 1, 3, 3, 5, 3, 2, 4, 6, 4,\n",
       "       6, 4, 2, 3, 6, 3, 3, 2, 3, 6, 2, 2, 5, 4, 5, 6, 5, 3, 5, 6, 1, 4,\n",
       "       3, 1, 6, 5, 2, 3, 4, 1, 3, 6, 4, 2, 3, 4, 6, 2, 2, 5, 2, 6, 6, 5,\n",
       "       2, 2])"
      ]
     },
     "execution_count": 50,
     "metadata": {},
     "output_type": "execute_result"
    }
   ],
   "source": [
    "# tiremos un dado 200 veces\n",
    "dado_results = np.random.choice([1, 2, 3, 4, 5, 6], 200)\n",
    "dado_results"
   ]
  },
  {
   "cell_type": "code",
   "execution_count": 51,
   "id": "af7b8cab-7b2d-4dfb-b0c2-45b905d6622c",
   "metadata": {},
   "outputs": [
    {
     "data": {
      "text/plain": [
       "{np.int64(5): 30,\n",
       " np.int64(1): 28,\n",
       " np.int64(3): 40,\n",
       " np.int64(2): 29,\n",
       " np.int64(4): 38,\n",
       " np.int64(6): 35}"
      ]
     },
     "execution_count": 51,
     "metadata": {},
     "output_type": "execute_result"
    }
   ],
   "source": [
    "#contemos los resultados\n",
    "\n",
    "resultados_dado = {}\n",
    "for e in dado_results:\n",
    "    resultados_dado[e] = resultados_dado.get(e, 0) +1\n",
    "\n",
    "resultados_dado"
   ]
  },
  {
   "cell_type": "code",
   "execution_count": 52,
   "id": "dbeb759f-abf3-4362-8c1d-81b2c1e5356b",
   "metadata": {},
   "outputs": [
    {
     "data": {
      "text/plain": [
       "dict_values([30, 28, 40, 29, 38, 35])"
      ]
     },
     "execution_count": 52,
     "metadata": {},
     "output_type": "execute_result"
    }
   ],
   "source": [
    "resultados_dado.keys()\n",
    "resultados_dado.values()\n"
   ]
  },
  {
   "cell_type": "code",
   "execution_count": 53,
   "id": "3415d2a7-dcdd-43cf-b40c-5d532ec7c558",
   "metadata": {},
   "outputs": [
    {
     "data": {
      "image/png": "[encoded data removed]",
      "text/plain": [
       "<Figure size 640x480 with 1 Axes>"
      ]
     },
     "metadata": {},
     "output_type": "display_data"
    }
   ],
   "source": [
    "plt.bar(x=resultados_dado.keys(),\n",
    "        height=resultados_dado.values())\n",
    "\n",
    "\n",
    "plt.xlabel('dice number')\n",
    "plt.ylabel('frequency')\n",
    "plt.show()"
   ]
  },
  {
   "cell_type": "code",
   "execution_count": 56,
   "id": "0d456dd6-0a1a-4173-9b7f-67f629ef7cbe",
   "metadata": {},
   "outputs": [
    {
     "data": {
      "image/png": "[encoded data removed]",
      "text/plain": [
       "<Figure size 640x480 with 1 Axes>"
      ]
     },
     "metadata": {},
     "output_type": "display_data"
    }
   ],
   "source": [
    "# seaborn has a nice function to do this as well\n",
    "#sns.barplot(x=resultados_dado, color='b');\n",
    "sns.countplot(x=resultados_dado.keys(), height=resultados_dado.values(),color='b');\n"
   ]
  },
  {
   "cell_type": "code",
   "execution_count": 20,
   "id": "d58d63c5-97e9-444a-8fb8-a4f205585de4",
   "metadata": {},
   "outputs": [],
   "source": [
    "data = pd.read_csv(\"../data/hours_vs_mark.csv\", index_col=0)"
   ]
  },
  {
   "cell_type": "code",
   "execution_count": 3,
   "id": "bb0dad5e-78ab-463b-9502-d455eb312728",
   "metadata": {},
   "outputs": [
    {
     "data": {
      "text/html": [
       "<div>\n",
       "<style scoped>\n",
       "    .dataframe tbody tr th:only-of-type {\n",
       "        vertical-align: middle;\n",
       "    }\n",
       "\n",
       "    .dataframe tbody tr th {\n",
       "        vertical-align: top;\n",
       "    }\n",
       "\n",
       "    .dataframe thead th {\n",
       "        text-align: right;\n",
       "    }\n",
       "</style>\n",
       "<table border=\"1\" class=\"dataframe\">\n",
       "  <thead>\n",
       "    <tr style=\"text-align: right;\">\n",
       "      <th></th>\n",
       "      <th>hours</th>\n",
       "      <th>mark</th>\n",
       "    </tr>\n",
       "  </thead>\n",
       "  <tbody>\n",
       "    <tr>\n",
       "      <th>0</th>\n",
       "      <td>865</td>\n",
       "      <td>95</td>\n",
       "    </tr>\n",
       "    <tr>\n",
       "      <th>1</th>\n",
       "      <td>4</td>\n",
       "      <td>12</td>\n",
       "    </tr>\n",
       "    <tr>\n",
       "      <th>2</th>\n",
       "      <td>305</td>\n",
       "      <td>35</td>\n",
       "    </tr>\n",
       "    <tr>\n",
       "      <th>3</th>\n",
       "      <td>437</td>\n",
       "      <td>56</td>\n",
       "    </tr>\n",
       "    <tr>\n",
       "      <th>4</th>\n",
       "      <td>682</td>\n",
       "      <td>86</td>\n",
       "    </tr>\n",
       "    <tr>\n",
       "      <th>...</th>\n",
       "      <td>...</td>\n",
       "      <td>...</td>\n",
       "    </tr>\n",
       "    <tr>\n",
       "      <th>95</th>\n",
       "      <td>252</td>\n",
       "      <td>66</td>\n",
       "    </tr>\n",
       "    <tr>\n",
       "      <th>96</th>\n",
       "      <td>49</td>\n",
       "      <td>21</td>\n",
       "    </tr>\n",
       "    <tr>\n",
       "      <th>97</th>\n",
       "      <td>792</td>\n",
       "      <td>97</td>\n",
       "    </tr>\n",
       "    <tr>\n",
       "      <th>98</th>\n",
       "      <td>310</td>\n",
       "      <td>46</td>\n",
       "    </tr>\n",
       "    <tr>\n",
       "      <th>99</th>\n",
       "      <td>934</td>\n",
       "      <td>89</td>\n",
       "    </tr>\n",
       "  </tbody>\n",
       "</table>\n",
       "<p>100 rows × 2 columns</p>\n",
       "</div>"
      ],
      "text/plain": [
       "    hours  mark\n",
       "0     865    95\n",
       "1       4    12\n",
       "2     305    35\n",
       "3     437    56\n",
       "4     682    86\n",
       "..    ...   ...\n",
       "95    252    66\n",
       "96     49    21\n",
       "97    792    97\n",
       "98    310    46\n",
       "99    934    89\n",
       "\n",
       "[100 rows x 2 columns]"
      ]
     },
     "execution_count": 3,
     "metadata": {},
     "output_type": "execute_result"
    }
   ],
   "source": [
    "data"
   ]
  },
  {
   "cell_type": "code",
   "execution_count": 71,
   "id": "d7b40db2-ccce-4e1f-b7e4-f1876be9b21d",
   "metadata": {},
   "outputs": [
    {
     "data": {
      "text/plain": [
       "<Axes: xlabel='hours', ylabel='mark'>"
      ]
     },
     "execution_count": 71,
     "metadata": {},
     "output_type": "execute_result"
    },
    {
     "data": {
      "image/png": "[encoded data removed]",
      "text/plain": [
       "<Figure size 640x480 with 1 Axes>"
      ]
     },
     "metadata": {},
     "output_type": "display_data"
    }
   ],
   "source": [
    "sns.scatterplot(x=data['hours'], y=data['mark'])"
   ]
  },
  {
   "cell_type": "markdown",
   "id": "b9912031-595e-4abd-a3b2-43c79fca8ba3",
   "metadata": {},
   "source": [
    "Lets try a linear regression $$Y = m * X + n$$\n",
    "\n",
    "$m$ is the slope  \n",
    "$n$ is the value of $Y$ when $X=0$ \n",
    "\n",
    "$$mark = m * hours + n$$"
   ]
  },
  {
   "cell_type": "code",
   "execution_count": 79,
   "id": "2d8fa8a6-033d-4571-b997-d7058f0b07ab",
   "metadata": {},
   "outputs": [],
   "source": [
    "# supongo que: cada hora de estudio, representa 0.1 puntos de la nota\n",
    "data['prediction_1'] = data.hours * 0.1 "
   ]
  },
  {
   "cell_type": "code",
   "execution_count": 80,
   "id": "a0b597ce-6dc7-4d2e-8a85-d0517a57cf37",
   "metadata": {},
   "outputs": [
    {
     "data": {
      "text/html": [
       "<div>\n",
       "<style scoped>\n",
       "    .dataframe tbody tr th:only-of-type {\n",
       "        vertical-align: middle;\n",
       "    }\n",
       "\n",
       "    .dataframe tbody tr th {\n",
       "        vertical-align: top;\n",
       "    }\n",
       "\n",
       "    .dataframe thead th {\n",
       "        text-align: right;\n",
       "    }\n",
       "</style>\n",
       "<table border=\"1\" class=\"dataframe\">\n",
       "  <thead>\n",
       "    <tr style=\"text-align: right;\">\n",
       "      <th></th>\n",
       "      <th>hours</th>\n",
       "      <th>mark</th>\n",
       "      <th>prediction_1</th>\n",
       "    </tr>\n",
       "  </thead>\n",
       "  <tbody>\n",
       "    <tr>\n",
       "      <th>0</th>\n",
       "      <td>865</td>\n",
       "      <td>95</td>\n",
       "      <td>86.5</td>\n",
       "    </tr>\n",
       "    <tr>\n",
       "      <th>1</th>\n",
       "      <td>4</td>\n",
       "      <td>12</td>\n",
       "      <td>0.4</td>\n",
       "    </tr>\n",
       "    <tr>\n",
       "      <th>2</th>\n",
       "      <td>305</td>\n",
       "      <td>35</td>\n",
       "      <td>30.5</td>\n",
       "    </tr>\n",
       "    <tr>\n",
       "      <th>3</th>\n",
       "      <td>437</td>\n",
       "      <td>56</td>\n",
       "      <td>43.7</td>\n",
       "    </tr>\n",
       "    <tr>\n",
       "      <th>4</th>\n",
       "      <td>682</td>\n",
       "      <td>86</td>\n",
       "      <td>68.2</td>\n",
       "    </tr>\n",
       "  </tbody>\n",
       "</table>\n",
       "</div>"
      ],
      "text/plain": [
       "   hours  mark  prediction_1\n",
       "0    865    95          86.5\n",
       "1      4    12           0.4\n",
       "2    305    35          30.5\n",
       "3    437    56          43.7\n",
       "4    682    86          68.2"
      ]
     },
     "execution_count": 80,
     "metadata": {},
     "output_type": "execute_result"
    }
   ],
   "source": [
    "data.head()"
   ]
  },
  {
   "cell_type": "code",
   "execution_count": 81,
   "id": "cea6aab8-8f37-4ce1-ac92-3dffa29c6493",
   "metadata": {},
   "outputs": [],
   "source": [
    "data['prediction_2'] = data.hours * 0.3 + 10\n"
   ]
  },
  {
   "cell_type": "code",
   "execution_count": 82,
   "id": "675ca299-2fd3-4bc3-8a22-7d7f13c19edc",
   "metadata": {},
   "outputs": [
    {
     "data": {
      "text/html": [
       "<div>\n",
       "<style scoped>\n",
       "    .dataframe tbody tr th:only-of-type {\n",
       "        vertical-align: middle;\n",
       "    }\n",
       "\n",
       "    .dataframe tbody tr th {\n",
       "        vertical-align: top;\n",
       "    }\n",
       "\n",
       "    .dataframe thead th {\n",
       "        text-align: right;\n",
       "    }\n",
       "</style>\n",
       "<table border=\"1\" class=\"dataframe\">\n",
       "  <thead>\n",
       "    <tr style=\"text-align: right;\">\n",
       "      <th></th>\n",
       "      <th>hours</th>\n",
       "      <th>mark</th>\n",
       "      <th>prediction_1</th>\n",
       "      <th>prediction_2</th>\n",
       "    </tr>\n",
       "  </thead>\n",
       "  <tbody>\n",
       "    <tr>\n",
       "      <th>0</th>\n",
       "      <td>865</td>\n",
       "      <td>95</td>\n",
       "      <td>86.5</td>\n",
       "      <td>269.5</td>\n",
       "    </tr>\n",
       "    <tr>\n",
       "      <th>1</th>\n",
       "      <td>4</td>\n",
       "      <td>12</td>\n",
       "      <td>0.4</td>\n",
       "      <td>11.2</td>\n",
       "    </tr>\n",
       "    <tr>\n",
       "      <th>2</th>\n",
       "      <td>305</td>\n",
       "      <td>35</td>\n",
       "      <td>30.5</td>\n",
       "      <td>101.5</td>\n",
       "    </tr>\n",
       "    <tr>\n",
       "      <th>3</th>\n",
       "      <td>437</td>\n",
       "      <td>56</td>\n",
       "      <td>43.7</td>\n",
       "      <td>141.1</td>\n",
       "    </tr>\n",
       "    <tr>\n",
       "      <th>4</th>\n",
       "      <td>682</td>\n",
       "      <td>86</td>\n",
       "      <td>68.2</td>\n",
       "      <td>214.6</td>\n",
       "    </tr>\n",
       "  </tbody>\n",
       "</table>\n",
       "</div>"
      ],
      "text/plain": [
       "   hours  mark  prediction_1  prediction_2\n",
       "0    865    95          86.5         269.5\n",
       "1      4    12           0.4          11.2\n",
       "2    305    35          30.5         101.5\n",
       "3    437    56          43.7         141.1\n",
       "4    682    86          68.2         214.6"
      ]
     },
     "execution_count": 82,
     "metadata": {},
     "output_type": "execute_result"
    }
   ],
   "source": [
    "data.head()"
   ]
  },
  {
   "cell_type": "code",
   "execution_count": 83,
   "id": "2f019b57-8a9e-4979-8718-3e0b26484682",
   "metadata": {},
   "outputs": [],
   "source": [
    "data['error_1'] = (data.mark - data.prediction_1).abs()"
   ]
  },
  {
   "cell_type": "code",
   "execution_count": 84,
   "id": "530f62b4-1c64-470e-b7a2-313f3fe93b80",
   "metadata": {},
   "outputs": [],
   "source": [
    "data['error_2'] = (data.mark - data.prediction_2).abs()"
   ]
  },
  {
   "cell_type": "code",
   "execution_count": 85,
   "id": "356c2a5b-2d29-4343-a72c-8a533bc6da8e",
   "metadata": {},
   "outputs": [
    {
     "data": {
      "text/html": [
       "<div>\n",
       "<style scoped>\n",
       "    .dataframe tbody tr th:only-of-type {\n",
       "        vertical-align: middle;\n",
       "    }\n",
       "\n",
       "    .dataframe tbody tr th {\n",
       "        vertical-align: top;\n",
       "    }\n",
       "\n",
       "    .dataframe thead th {\n",
       "        text-align: right;\n",
       "    }\n",
       "</style>\n",
       "<table border=\"1\" class=\"dataframe\">\n",
       "  <thead>\n",
       "    <tr style=\"text-align: right;\">\n",
       "      <th></th>\n",
       "      <th>hours</th>\n",
       "      <th>mark</th>\n",
       "      <th>prediction_1</th>\n",
       "      <th>prediction_2</th>\n",
       "      <th>error_1</th>\n",
       "      <th>error_2</th>\n",
       "    </tr>\n",
       "  </thead>\n",
       "  <tbody>\n",
       "    <tr>\n",
       "      <th>0</th>\n",
       "      <td>865</td>\n",
       "      <td>95</td>\n",
       "      <td>86.5</td>\n",
       "      <td>269.5</td>\n",
       "      <td>8.5</td>\n",
       "      <td>174.5</td>\n",
       "    </tr>\n",
       "    <tr>\n",
       "      <th>1</th>\n",
       "      <td>4</td>\n",
       "      <td>12</td>\n",
       "      <td>0.4</td>\n",
       "      <td>11.2</td>\n",
       "      <td>11.6</td>\n",
       "      <td>0.8</td>\n",
       "    </tr>\n",
       "    <tr>\n",
       "      <th>2</th>\n",
       "      <td>305</td>\n",
       "      <td>35</td>\n",
       "      <td>30.5</td>\n",
       "      <td>101.5</td>\n",
       "      <td>4.5</td>\n",
       "      <td>66.5</td>\n",
       "    </tr>\n",
       "    <tr>\n",
       "      <th>3</th>\n",
       "      <td>437</td>\n",
       "      <td>56</td>\n",
       "      <td>43.7</td>\n",
       "      <td>141.1</td>\n",
       "      <td>12.3</td>\n",
       "      <td>85.1</td>\n",
       "    </tr>\n",
       "    <tr>\n",
       "      <th>4</th>\n",
       "      <td>682</td>\n",
       "      <td>86</td>\n",
       "      <td>68.2</td>\n",
       "      <td>214.6</td>\n",
       "      <td>17.8</td>\n",
       "      <td>128.6</td>\n",
       "    </tr>\n",
       "  </tbody>\n",
       "</table>\n",
       "</div>"
      ],
      "text/plain": [
       "   hours  mark  prediction_1  prediction_2  error_1  error_2\n",
       "0    865    95          86.5         269.5      8.5    174.5\n",
       "1      4    12           0.4          11.2     11.6      0.8\n",
       "2    305    35          30.5         101.5      4.5     66.5\n",
       "3    437    56          43.7         141.1     12.3     85.1\n",
       "4    682    86          68.2         214.6     17.8    128.6"
      ]
     },
     "execution_count": 85,
     "metadata": {},
     "output_type": "execute_result"
    }
   ],
   "source": [
    "data.head()"
   ]
  },
  {
   "cell_type": "code",
   "execution_count": 86,
   "id": "3677a25f-e067-447e-9b40-822209f05732",
   "metadata": {},
   "outputs": [
    {
     "data": {
      "text/plain": [
       "np.float64(12.675999999999998)"
      ]
     },
     "execution_count": 86,
     "metadata": {},
     "output_type": "execute_result"
    }
   ],
   "source": [
    "data.error_1.mean()"
   ]
  },
  {
   "cell_type": "code",
   "execution_count": 87,
   "id": "208dd3d9-271c-4a45-b538-10f01a7a2120",
   "metadata": {},
   "outputs": [
    {
     "data": {
      "text/plain": [
       "np.float64(91.26800000000001)"
      ]
     },
     "execution_count": 87,
     "metadata": {},
     "output_type": "execute_result"
    }
   ],
   "source": [
    "data.error_2.mean()"
   ]
  },
  {
   "cell_type": "code",
   "execution_count": 89,
   "id": "26d433b8-9645-4240-9b45-0ee3e3a7f7fe",
   "metadata": {},
   "outputs": [
    {
     "data": {
      "text/plain": [
       "<matplotlib.legend.Legend at 0x15dd03fa0>"
      ]
     },
     "execution_count": 89,
     "metadata": {},
     "output_type": "execute_result"
    },
    {
     "data": {
      "image/png": "[encoded data removed]",
      "text/plain": [
       "<Figure size 640x480 with 1 Axes>"
      ]
     },
     "metadata": {},
     "output_type": "display_data"
    }
   ],
   "source": [
    "fig, ax = plt.subplots(1,1)\n",
    "\n",
    "sns.scatterplot(x=data.hours, y=data.mark)\n",
    "\n",
    "ax.plot(data.hours, data.prediction_1, color='g', label='better')\n",
    "ax.plot(data.hours, data.prediction_2, color='r', label='worse')\n",
    "\n",
    "plt.legend()"
   ]
  },
  {
   "cell_type": "code",
   "execution_count": 90,
   "id": "2fe2ee78-0c15-4177-a7f4-b1cbf7b0e37d",
   "metadata": {},
   "outputs": [],
   "source": [
    "# The optimal linear model"
   ]
  },
  {
   "cell_type": "code",
   "execution_count": 91,
   "id": "b9eab215-1b79-450f-9fcf-8a0117efa820",
   "metadata": {},
   "outputs": [],
   "source": [
    "from sklearn.linear_model import LinearRegression\n",
    "\n",
    "lr = LinearRegression()\n",
    "\n",
    "optimal_m = lr.fit(X = data[[\"hours\"]], y = data.mark).coef_[0]\n",
    "optimal_n = lr.fit(X = data[[\"hours\"]], y = data.mark).intercept_\n",
    "\n",
    "data[\"best_prediction\"] = data.hours * optimal_m + optimal_n"
   ]
  },
  {
   "cell_type": "code",
   "execution_count": 92,
   "id": "d9124b26-c17f-410c-92bd-7290c5c7103b",
   "metadata": {},
   "outputs": [
    {
     "data": {
      "text/plain": [
       "<matplotlib.legend.Legend at 0x15dddab20>"
      ]
     },
     "execution_count": 92,
     "metadata": {},
     "output_type": "execute_result"
    },
    {
     "data": {
      "image/png": "[encoded data removed]",
      "text/plain": [
       "<Figure size 640x480 with 1 Axes>"
      ]
     },
     "metadata": {},
     "output_type": "display_data"
    }
   ],
   "source": [
    "fig, ax = plt.subplots()\n",
    "sns.scatterplot(x=data[\"hours\"], y=data[\"mark\"])\n",
    "\n",
    "plt.plot(data.hours, data.prediction_1, color='g', label='better')\n",
    "plt.plot(data.hours, data.prediction_2, color='r', label='worse')\n",
    "plt.plot(data.hours, data.best_prediction, color='y', label='best')\n",
    "\n",
    "plt.legend()"
   ]
  },
  {
   "cell_type": "code",
   "execution_count": 94,
   "id": "9e7a2a04-9f4e-4f43-a377-10eaaf283ae8",
   "metadata": {},
   "outputs": [],
   "source": [
    "# What's really a linear regression model?"
   ]
  },
  {
   "cell_type": "code",
   "execution_count": 95,
   "id": "8fc4fca3-95aa-466d-b15c-10ccbc789ed7",
   "metadata": {},
   "outputs": [],
   "source": [
    "import numpy as np\n",
    "from matplotlib import pyplot as plt\n",
    "from mpl_toolkits.mplot3d import axes3d\n",
    "from matplotlib import cm\n",
    "%matplotlib inline\n",
    "%config Inlinebackend.figure_format = 'retina'\n",
    "\n",
    "import seaborn as sns\n",
    "sns.set_context('poster')\n",
    "sns.set(rc={'figure.figsize': (16., 9.)})\n",
    "sns.set_style('whitegrid')\n",
    "\n",
    "# Modeling libraries\n",
    "import statsmodels.formula.api as smf\n",
    "from sklearn.linear_model import LinearRegression\n",
    "\n",
    "import pandas as pd\n",
    "np.random.seed(123)"
   ]
  },
  {
   "cell_type": "code",
   "execution_count": null,
   "id": "853a1a6c-0f7c-4ced-adee-aa4a51e577b3",
   "metadata": {},
   "outputs": [],
   "source": []
  }
 ],
 "metadata": {
  "kernelspec": {
   "display_name": "Python 3 (ipykernel)",
   "language": "python",
   "name": "python3"
  },
  "language_info": {
   "codemirror_mode": {
    "name": "ipython",
    "version": 3
   },
   "file_extension": ".py",
   "mimetype": "text/x-python",
   "name": "python",
   "nbconvert_exporter": "python",
   "pygments_lexer": "ipython3",
   "version": "3.9.21"
  }
 },
 "nbformat": 4,
 "nbformat_minor": 5
}
