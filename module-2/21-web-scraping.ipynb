{
 "cells": [
  {
   "cell_type": "markdown",
   "id": "intended-controversy",
   "metadata": {
    "toc": true
   },
   "source": [
    "<h1>Table of Contents<span class=\"tocSkip\"></span></h1>\n",
    "<div class=\"toc\"><ul class=\"toc-item\"><li><span><a href=\"#Importo-librerías-que-vamos-a-usar-después\" data-toc-modified-id=\"Importo-librerías-que-vamos-a-usar-después-1\"><span class=\"toc-item-num\">1&nbsp;&nbsp;</span>Importo librerías que vamos a usar después</a></span></li><li><span><a href=\"#Repaso-HTML\" data-toc-modified-id=\"Repaso-HTML-2\"><span class=\"toc-item-num\">2&nbsp;&nbsp;</span>Repaso HTML</a></span><ul class=\"toc-item\"><li><span><a href=\"#Tags\" data-toc-modified-id=\"Tags-2.1\"><span class=\"toc-item-num\">2.1&nbsp;&nbsp;</span>Tags</a></span></li><li><span><a href=\"#Attributes\" data-toc-modified-id=\"Attributes-2.2\"><span class=\"toc-item-num\">2.2&nbsp;&nbsp;</span>Attributes</a></span></li></ul></li><li><span><a href=\"#Beautitul-soup\" data-toc-modified-id=\"Beautitul-soup-3\"><span class=\"toc-item-num\">3&nbsp;&nbsp;</span>Beautitul soup</a></span><ul class=\"toc-item\"><li><span><a href=\"#Hacer-scraping-de-los-elementos-HTML-usando-la-clase-Attribute\" data-toc-modified-id=\"Hacer-scraping-de-los-elementos-HTML-usando-la-clase-Attribute-3.1\"><span class=\"toc-item-num\">3.1&nbsp;&nbsp;</span>Hacer scraping de los elementos HTML usando la clase Attribute</a></span></li><li><span><a href=\"#Obtener-las-etiquetas-HTML-usando-findAll\" data-toc-modified-id=\"Obtener-las-etiquetas-HTML-usando-findAll-3.2\"><span class=\"toc-item-num\">3.2&nbsp;&nbsp;</span>Obtener las etiquetas HTML usando findAll</a></span></li><li><span><a href=\"#Buscar-el-enésimo-hijo-usando-Beautiful-Soup\" data-toc-modified-id=\"Buscar-el-enésimo-hijo-usando-Beautiful-Soup-3.3\"><span class=\"toc-item-num\">3.3&nbsp;&nbsp;</span>Buscar el enésimo hijo usando Beautiful Soup</a></span></li></ul></li><li><span><a href=\"#Diferencia-entre-find_all()-y-select()\" data-toc-modified-id=\"Diferencia-entre-find_all()-y-select()-4\"><span class=\"toc-item-num\">4&nbsp;&nbsp;</span>Diferencia entre find_all() y select()</a></span><ul class=\"toc-item\"><li><ul class=\"toc-item\"><li><span><a href=\"#Find_all\" data-toc-modified-id=\"Find_all-4.0.1\"><span class=\"toc-item-num\">4.0.1&nbsp;&nbsp;</span>Find_all</a></span></li><li><span><a href=\"#Select\" data-toc-modified-id=\"Select-4.0.2\"><span class=\"toc-item-num\">4.0.2&nbsp;&nbsp;</span>Select</a></span></li></ul></li></ul></li><li><span><a href=\"#Manos-a-la-obra\" data-toc-modified-id=\"Manos-a-la-obra-5\"><span class=\"toc-item-num\">5&nbsp;&nbsp;</span>Manos a la obra</a></span><ul class=\"toc-item\"><li><span><a href=\"#Ejemplo-1-Página-de-zapatillas-de-deporte\" data-toc-modified-id=\"Ejemplo-1-Página-de-zapatillas-de-deporte-5.1\"><span class=\"toc-item-num\">5.1&nbsp;&nbsp;</span>Ejemplo 1 Página de zapatillas de deporte</a></span></li><li><span><a href=\"#Ejemplo-wikipedia-medallero\" data-toc-modified-id=\"Ejemplo-wikipedia-medallero-5.2\"><span class=\"toc-item-num\">5.2&nbsp;&nbsp;</span>Ejemplo wikipedia medallero</a></span></li><li><span><a href=\"#Ejemplo-Wikipedia-Enlaces\" data-toc-modified-id=\"Ejemplo-Wikipedia-Enlaces-5.3\"><span class=\"toc-item-num\">5.3&nbsp;&nbsp;</span>Ejemplo Wikipedia Enlaces</a></span></li></ul></li><li><span><a href=\"#Summary\" data-toc-modified-id=\"Summary-6\"><span class=\"toc-item-num\">6&nbsp;&nbsp;</span>Summary</a></span></li></ul></div>"
   ]
  },
  {
   "cell_type": "markdown",
   "id": "buried-palestinian",
   "metadata": {},
   "source": [
    "# Web Scraping"
   ]
  },
  {
   "cell_type": "markdown",
   "id": "unable-recall",
   "metadata": {},
   "source": [
    "![legtsgo](https://media.giphy.com/media/dwmNhd5H7YAz6/giphy.gif)"
   ]
  },
  {
   "cell_type": "markdown",
   "id": "standing-payday",
   "metadata": {},
   "source": [
    "## Importo librerías que vamos a usar después"
   ]
  },
  {
   "cell_type": "code",
   "execution_count": null,
   "id": "worth-quarterly",
   "metadata": {},
   "outputs": [],
   "source": [
    "import requests\n",
    "from bs4 import BeautifulSoup"
   ]
  },
  {
   "cell_type": "markdown",
   "id": "popular-estate",
   "metadata": {},
   "source": [
    "## Repaso HTML\n",
    "El código HTML se compone de contenido `<etiquetado>`      \n",
    "HTML tiene una estructura jeárquica: parent tags, children tags, sibling tags:     \n",
    "\n",
    "```\n",
    "<html>\n",
    "    <head>\n",
    "        <title>Page Title</title>\n",
    "    </head>\n",
    "    <body>\n",
    "        <h1>My First Heading</h1>\n",
    "        <p>My first paragraph.</p>\n",
    "    </body>\n",
    "</html>\n",
    "```"
   ]
  },
  {
   "cell_type": "markdown",
   "id": "immediate-deficit",
   "metadata": {},
   "source": [
    "### Tags\n",
    "\n",
    "Las etiquetas pueden clasificarse en diferentes grupos, en función del tipo de contenido que se espera que posean\n",
    " * heading: `<h1>`, `<h2>`, `<h3>`, `<hgroup>`...\n",
    " * phrasing: `<b>`, `<sub>`...\n",
    " * embedded: `<audio>`, `<img>`, `<video>`...\n",
    " * tabulated: `<table>`, `<tr>`, `<tbody>`...\n",
    " * sections: `<header>`, `<section>`, `<article>`...\n",
    " * metadata: `<meta>`, `<title>`, `<script>`..."
   ]
  },
  {
   "cell_type": "markdown",
   "id": "behavioral-plate",
   "metadata": {},
   "source": [
    "### Attributes\n",
    "Los atributos son propiedades que un tag puede o no tener. \n",
    "`<div> Zapas Marca Joma X54 </div>` En este caso, la etiqueta div no tiene atributos      \n",
    "\n",
    "* a `class` attribute with value `price-item`\n",
    "* an `id` attribute with value `offer`  \n",
    "\n",
    "`<div class=\"price-item\" id=\"offer\"> Zapas Marca Joma X54 </div>`     \n",
    "\n",
    "El atributo `id` debe ser único para una etiqueta (no debe haber dos etiquetas con el mismo `id`), sin embargo, `class` no pretende ser única, normalmente agrupa etiquetas con un comportamiento similar. Que el id sea único es una convención, html sí nos permite tener el mismo id. Nosotras no buscaremos por id, a no ser que queramos buscar algo concreto, porque querremos obtener muchos datos....     \n",
    "\n",
    "Otras etiquetas de uso frecuente son:\n",
    "* `dir`\n",
    "* `lang`\n",
    "* `style` (not to be confused with `<style>` tag)\n",
    "* `title` (not to be confused with `<title>` tag)"
   ]
  },
  {
   "cell_type": "markdown",
   "id": "strong-proof",
   "metadata": {},
   "source": [
    "## Beautitul soup\n",
    "“Si sólo tratas de sacar datos de una web. Beautiful Soup está aquí para ayudar “.\n",
    "\n",
    "Pero solo te ayudará si te [lees la documentación](https://www.crummy.com/software/BeautifulSoup/bs4/doc/) 🤭\n",
    "\n",
    "Beautiful Soup es una librería Python para obtener datos de HTML, XML y otros lenguajes de marcado. Digamos que has encontrado algunas páginas web que muestran datos relevantes para ti, como información de fechas, contenido, dirección, valores… pero esa web no proporciona ninguna forma de descargar los datos directamente. Beautiful Soup te ayuda a extraer contenido particular de una página web, elimina el marcado HTML, guardar la información e incluso te lo exporta en un archivo excel.        \n",
    "La documentación de Beautiful Soup te dará una idea de la variedad de cosas que la biblioteca Beautiful Soup te ayudará, desde aislar títulos y enlaces, extraer todo el texto de las etiquetas html, hasta alterar el HTML dentro del documento con el que está trabajando."
   ]
  },
  {
   "cell_type": "markdown",
   "id": "prescribed-practitioner",
   "metadata": {},
   "source": [
    "### Hacer scraping de los elementos HTML usando la clase Attribute\n",
    "El objeto Beautiful Soup tiene una función llamada findAll que extrae o filtra elementos en función de sus atributos.    \n",
    "Podemos filtrar todos los elementos h2 cuya clase es widget-title:"
   ]
  },
  {
   "cell_type": "markdown",
   "id": "substantial-consumption",
   "metadata": {},
   "source": [
    "```python\n",
    "tags = res.findAll(\"h2\", {\"class\": \"widget-title\"})\n",
    "```"
   ]
  },
  {
   "cell_type": "markdown",
   "id": "recognized-steel",
   "metadata": {},
   "source": [
    "Podemos usar una estructura for para iterar sobre ellos y hacer lo que sea con cada uno."
   ]
  },
  {
   "cell_type": "code",
   "execution_count": null,
   "id": "favorite-westminster",
   "metadata": {},
   "outputs": [],
   "source": [
    "url = \"https://www.python.org/\"\n",
    "html = requests.get(url)\n",
    "soup = BeautifulSoup(html.content,\"html.parser\")"
   ]
  },
  {
   "cell_type": "code",
   "execution_count": null,
   "id": "incorrect-processing",
   "metadata": {},
   "outputs": [],
   "source": [
    "tags = soup.find_all(\"h2\", {\"class\": \"widget-title\"})"
   ]
  },
  {
   "cell_type": "code",
   "execution_count": null,
   "id": "female-drawing",
   "metadata": {
    "scrolled": true
   },
   "outputs": [],
   "source": [
    "#findall nos devuelve una lista\n",
    "tags"
   ]
  },
  {
   "cell_type": "code",
   "execution_count": null,
   "id": "unique-shelter",
   "metadata": {},
   "outputs": [],
   "source": [
    "len(tags)"
   ]
  },
  {
   "cell_type": "code",
   "execution_count": null,
   "id": "gross-clinton",
   "metadata": {},
   "outputs": [],
   "source": [
    "tags[0].getText()"
   ]
  },
  {
   "cell_type": "code",
   "execution_count": null,
   "id": "valuable-instrument",
   "metadata": {},
   "outputs": [],
   "source": [
    "for tag in tags:\n",
    "    print(tag.getText())"
   ]
  },
  {
   "cell_type": "code",
   "execution_count": null,
   "id": "unknown-brooklyn",
   "metadata": {},
   "outputs": [],
   "source": [
    "lista_palabras = [tag.getText() for tag in tags]"
   ]
  },
  {
   "cell_type": "code",
   "execution_count": null,
   "id": "verbal-concrete",
   "metadata": {},
   "outputs": [],
   "source": [
    "lista_palabras"
   ]
  },
  {
   "cell_type": "markdown",
   "id": "christian-starter",
   "metadata": {},
   "source": [
    "Usamos la función getText para imprimir solo el contenido interno de la etiqueta, pero si no usaste getText, terminarás con las etiquetas incluido todo lo que haya dentro de ellas."
   ]
  },
  {
   "cell_type": "code",
   "execution_count": null,
   "id": "incorporate-sudan",
   "metadata": {},
   "outputs": [],
   "source": []
  },
  {
   "cell_type": "markdown",
   "id": "eight-mention",
   "metadata": {},
   "source": [
    "### Obtener las etiquetas HTML usando findAll\n",
    "Vimos cómo findAll function filtra las etiquetas por clase, pero esto no es todo.\n",
    "\n",
    "Para filtrar una lista de etiquetas, reemplaza la línea resaltada del ejemplo anterior con la siguiente línea:"
   ]
  },
  {
   "cell_type": "code",
   "execution_count": null,
   "id": "accompanied-performance",
   "metadata": {},
   "outputs": [],
   "source": [
    "#Este código obtiene todas las etiquetas span, a e img del código HTML descargado.\n",
    "tags = res.findAll(\"span\", \"a\" \"img\")"
   ]
  },
  {
   "cell_type": "markdown",
   "id": "clear-taste",
   "metadata": {},
   "source": [
    "Además, puedes extraer etiquetas que tengan estas clases:"
   ]
  },
  {
   "cell_type": "code",
   "execution_count": null,
   "id": "agreed-polyester",
   "metadata": {},
   "outputs": [],
   "source": [
    "tags = res.findAll(\"a\", {\"class\": [\"url\", \"readmorebtn\"]})"
   ]
  },
  {
   "cell_type": "markdown",
   "id": "combined-correspondence",
   "metadata": {},
   "source": [
    "Este código extrae todas las etiquetas a que tienen las clases readmorebtn y url.     \n",
    "Puedes filtrar el contenido en función del texto interno, utilizando el argumento text de esta manera:"
   ]
  },
  {
   "cell_type": "code",
   "execution_count": null,
   "id": "extraordinary-compound",
   "metadata": {},
   "outputs": [],
   "source": [
    "tags = res.findAll(text=\"Python Programming Basics with Examples\")"
   ]
  },
  {
   "cell_type": "markdown",
   "id": "duplicate-water",
   "metadata": {},
   "source": [
    "La función findAll devuelve todos los elementos que coinciden con los atributos especificados, pero si deseas devolver un solo elemento, puedes usar el parámetro limit o usar la función find que solo devuelve el primer elemento."
   ]
  },
  {
   "cell_type": "markdown",
   "id": "frank-thunder",
   "metadata": {},
   "source": [
    "### Buscar el enésimo hijo usando Beautiful Soup\n",
    "El objeto Beautiful Soup tiene muchas características potentes, puedes obtener elementos hijos directamente así:"
   ]
  },
  {
   "cell_type": "code",
   "execution_count": null,
   "id": "hollow-timing",
   "metadata": {},
   "outputs": [],
   "source": [
    "tags = res.span.findAll(\"a\")"
   ]
  },
  {
   "cell_type": "markdown",
   "id": "painful-reasoning",
   "metadata": {},
   "source": [
    "Esta línea obtendrá el primer elemento span en el objeto Beautiful Soup y luego obtendrá todos los elementos a en ese span.\n",
    "\n",
    "¿Qué pasa si necesitas conseguir el enésimo hijo?\n",
    "```python\n",
    "tag = res.find(\"nav\", {\"id\": \"site-navigation\"}).select(\"a\")[3]\n",
    "```\n",
    "\n",
    "Esta línea obtiene el elemento nav con id site-navigation y luego tomamos la cuarta etiqueta a de ese elemento nav.\n",
    "\n",
    "¡Beautiful Soup es brutaaaaaaaaaal!"
   ]
  },
  {
   "cell_type": "markdown",
   "id": "ordinary-hardware",
   "metadata": {},
   "source": [
    "## Diferencia entre find_all() y select()"
   ]
  },
  {
   "cell_type": "markdown",
   "id": "nutritional-senate",
   "metadata": {},
   "source": [
    "#### Find_all\n",
    "[DOCUMENTACIÓN FINDALL](https://www.crummy.com/software/BeautifulSoup/bs4/doc/#calling-a-tag-is-like-calling-find-all)     \n",
    "El método find_all() escanea todo el documento en busca de resultados, pero a veces sólo se quiere encontrar un resultado. Si sabe que un documento sólo tiene una etiqueta <body>, es una pérdida de tiempo escanear todo el documento en busca de más. En lugar de pasar limit=1 cada vez que llame a find_all, puede utilizar el método find(). "
   ]
  },
  {
   "cell_type": "markdown",
   "id": "fresh-purse",
   "metadata": {},
   "source": [
    "#### Select\n",
    "[DOCUMENTACIÓN SELECT](https://www.crummy.com/software/BeautifulSoup/bs4/doc/#css-selectors)     \n",
    "BeautifulSoup tiene un método .select() que utiliza el paquete SoupSieve para ejecutar un selector CSS contra un documento analizado y devolver todos los elementos coincidentes. Tag tiene un método similar que ejecuta un selector CSS contra el contenido de una sola etiqueta.\n",
    "\n",
    "(La integración de SoupSieve se añadió en Beautiful Soup 4.7.0.) Las versiones anteriores también tienen el método .select(), pero sólo se soportan los selectores CSS más utilizados. Si instalaste Beautiful Soup a través de pip, SoupSieve fue instalado al mismo tiempo, así que no tienes que hacer nada extra).\n",
    "\n",
    "La documentación de SoupSieve enumera todos los selectores CSS actualmente soportados"
   ]
  },
  {
   "cell_type": "markdown",
   "id": "steady-madagascar",
   "metadata": {},
   "source": [
    "## Manos a la obra"
   ]
  },
  {
   "cell_type": "markdown",
   "id": "front-majority",
   "metadata": {},
   "source": [
    "### Ejemplo 1 Página de zapatillas de deporte"
   ]
  },
  {
   "cell_type": "markdown",
   "id": "timely-nowhere",
   "metadata": {},
   "source": [
    "Recuerda que tienes que instalar la librería beautifulsoup    "
   ]
  },
  {
   "cell_type": "code",
   "execution_count": null,
   "id": "municipal-swedish",
   "metadata": {},
   "outputs": [],
   "source": [
    "#!pip install beautifulsoup4"
   ]
  },
  {
   "cell_type": "code",
   "execution_count": 1,
   "id": "professional-appreciation",
   "metadata": {},
   "outputs": [],
   "source": [
    "import requests\n",
    "from bs4 import BeautifulSoup"
   ]
  },
  {
   "cell_type": "code",
   "execution_count": 2,
   "id": "demonstrated-project",
   "metadata": {},
   "outputs": [],
   "source": [
    "import pandas as pd"
   ]
  },
  {
   "cell_type": "code",
   "execution_count": 3,
   "id": "broken-colombia",
   "metadata": {},
   "outputs": [],
   "source": [
    "url = \"https://www.murallasport.com/29-zapatillas-moda-mujer\"\n",
    "html = requests.get(url)\n",
    "soup = BeautifulSoup(html.content, \"html.parser\")"
   ]
  },
  {
   "cell_type": "code",
   "execution_count": 4,
   "id": "built-observation",
   "metadata": {},
   "outputs": [],
   "source": [
    "#soup"
   ]
  },
  {
   "cell_type": "code",
   "execution_count": 5,
   "id": "medium-registrar",
   "metadata": {},
   "outputs": [],
   "source": [
    "#Vamos a sacar los nombres de las zapatillas"
   ]
  },
  {
   "cell_type": "code",
   "execution_count": 6,
   "id": "checked-delaware",
   "metadata": {},
   "outputs": [],
   "source": [
    "nombres = soup.find_all(\"div\", {\"class\": \"name_product_box\"})"
   ]
  },
  {
   "cell_type": "code",
   "execution_count": 7,
   "id": "random-puppy",
   "metadata": {},
   "outputs": [
    {
     "data": {
      "text/plain": [
       "'Canvas Color Chuck Taylor All Star Move Low Top...'"
      ]
     },
     "execution_count": 7,
     "metadata": {},
     "output_type": "execute_result"
    }
   ],
   "source": [
    "nombres[0].getText().strip()"
   ]
  },
  {
   "cell_type": "code",
   "execution_count": 8,
   "id": "eligible-bradford",
   "metadata": {},
   "outputs": [
    {
     "data": {
      "text/plain": [
       "<div class=\"name_product_box\">\n",
       "<span><a href=\"/producto/2500-canvas-color-chuck-taylor-all-star-move-low-top-negro\">Canvas Color Chuck Taylor All Star Move Low Top...</a></span>\n",
       "</div>"
      ]
     },
     "execution_count": 8,
     "metadata": {},
     "output_type": "execute_result"
    }
   ],
   "source": [
    "nombres[0]"
   ]
  },
  {
   "cell_type": "code",
   "execution_count": 9,
   "id": "sophisticated-museum",
   "metadata": {},
   "outputs": [
    {
     "name": "stdout",
     "output_type": "stream",
     "text": [
      "['Canvas Color Chuck Taylor All Star Move Low Top...', 'Zapatilla Canvas Color Chuck Taylor All Star Mo...', 'Zapatilla Mujer  Converse Lift  Hi Top  Beige', 'Zapatillas Mujer  Reebok Legacy 83  Verde', 'Zapatilla Adidas Mujer Courtphase Blanco', 'Zapatilla Nike Court Legacy Blanco', 'Zapatilla Mujer Nike Air Max Excee Blanco', 'Zapatilla Mujer New Balance 373 Azul', 'Zapatilla Mujer New Balance 373 Gris', 'Zapatilla Mujer New Balance 574 Rosa', 'Zapatilla Mujer New Balance 574 Verde', 'Zapatilla Mujer New balance 574 Azul', 'Zapatilla Mujer New Balance 237  Multicolor', 'Zapatilla New Balance 237 Multicolor', 'Zapatilla Mujer  New Balance 327   Negro', 'Zapatilla Mujer New Balance 327   Beige Granate', 'Zapatilla Mujer CONVERSE ALL STAR EDGED ARCHIVE...', 'Zapatilla Mujer Converse MOVE HI CTAS BEIGE', 'Zapatilla Mujer Converse Move Hi Negro', 'Zapatilla Mujer Converse Move Hi Top Blanca', 'Zapatilla Mujer CHUCK TAYLOR ALL STAR ARCHIVE L...', 'Zapatilla Mujer Converse All Star Lugged Hi Negro', 'Zapatilla Mujer Skechers Bobs Squad Celeste', 'Zapatilla Mujer Skechers Bobs Squad Gris']\n"
     ]
    }
   ],
   "source": [
    "#Iteramos sobre la lista de las etiquetas con una list comprehension y extraemos los nombres\n",
    "lista_nombres = [a.getText().strip() for a in nombres]\n",
    "print(lista_nombres)"
   ]
  },
  {
   "cell_type": "code",
   "execution_count": 10,
   "id": "bizarre-zoning",
   "metadata": {},
   "outputs": [],
   "source": [
    "#Seleccionamos los nombres de las zapatillas con el selector css utilizando select \n",
    "#obtenemos el mismo resultado que con findall\n",
    "nombres_ = soup.select(\"div.name_product_box\")"
   ]
  },
  {
   "cell_type": "code",
   "execution_count": 11,
   "id": "interim-stephen",
   "metadata": {},
   "outputs": [],
   "source": [
    "#nombres_"
   ]
  },
  {
   "cell_type": "code",
   "execution_count": 12,
   "id": "consistent-morrison",
   "metadata": {},
   "outputs": [],
   "source": [
    "#otra sintaxis diferente\n",
    "nombres_2 = soup.find_all(name = \"div\",\n",
    "                         class_= \"name_product_box\"\n",
    "\n",
    "\n",
    ")"
   ]
  },
  {
   "cell_type": "code",
   "execution_count": 13,
   "id": "express-embassy",
   "metadata": {},
   "outputs": [],
   "source": [
    "#sacamos las marcas también con el select\n",
    "marcas = soup.select(\"span.marca-product-box\")"
   ]
  },
  {
   "cell_type": "code",
   "execution_count": 14,
   "id": "dressed-humanitarian",
   "metadata": {},
   "outputs": [],
   "source": [
    "marcas_ = soup.find_all(\"span\", {\"class\": \"marca-product-box\"})"
   ]
  },
  {
   "cell_type": "code",
   "execution_count": 15,
   "id": "vietnamese-nerve",
   "metadata": {},
   "outputs": [
    {
     "data": {
      "text/plain": [
       "'CONVERSE'"
      ]
     },
     "execution_count": 15,
     "metadata": {},
     "output_type": "execute_result"
    }
   ],
   "source": [
    "marcas[0].getText().strip()"
   ]
  },
  {
   "cell_type": "code",
   "execution_count": 16,
   "id": "federal-michigan",
   "metadata": {},
   "outputs": [],
   "source": [
    "lista_marcas = [marca.getText().strip() for marca in marcas]"
   ]
  },
  {
   "cell_type": "code",
   "execution_count": 17,
   "id": "modular-prediction",
   "metadata": {},
   "outputs": [],
   "source": [
    "#lista de precios\n",
    "precios = soup.select(\"div.price_product_box\")"
   ]
  },
  {
   "cell_type": "code",
   "execution_count": 18,
   "id": "worst-proxy",
   "metadata": {},
   "outputs": [],
   "source": [
    "precios_ = soup.find_all(\"div\", {\"class\":\"price_product_box\"})"
   ]
  },
  {
   "cell_type": "code",
   "execution_count": 19,
   "id": "related-puzzle",
   "metadata": {},
   "outputs": [],
   "source": [
    "lista_precios = [precio.getText().strip() for precio in precios]"
   ]
  },
  {
   "cell_type": "code",
   "execution_count": 20,
   "id": "prompt-hundred",
   "metadata": {},
   "outputs": [],
   "source": [
    "diccionario = {\"Producto\": lista_nombres, \"Marca\": lista_marcas, \"Precio\": lista_precios}"
   ]
  },
  {
   "cell_type": "code",
   "execution_count": 21,
   "id": "celtic-basics",
   "metadata": {},
   "outputs": [
    {
     "data": {
      "text/html": [
       "<div>\n",
       "<style scoped>\n",
       "    .dataframe tbody tr th:only-of-type {\n",
       "        vertical-align: middle;\n",
       "    }\n",
       "\n",
       "    .dataframe tbody tr th {\n",
       "        vertical-align: top;\n",
       "    }\n",
       "\n",
       "    .dataframe thead th {\n",
       "        text-align: right;\n",
       "    }\n",
       "</style>\n",
       "<table border=\"1\" class=\"dataframe\">\n",
       "  <thead>\n",
       "    <tr style=\"text-align: right;\">\n",
       "      <th></th>\n",
       "      <th>Producto</th>\n",
       "      <th>Marca</th>\n",
       "      <th>Precio</th>\n",
       "    </tr>\n",
       "  </thead>\n",
       "  <tbody>\n",
       "    <tr>\n",
       "      <th>0</th>\n",
       "      <td>Canvas Color Chuck Taylor All Star Move Low To...</td>\n",
       "      <td>CONVERSE</td>\n",
       "      <td>71.20€\\n80.00€</td>\n",
       "    </tr>\n",
       "    <tr>\n",
       "      <th>1</th>\n",
       "      <td>Zapatilla Canvas Color Chuck Taylor All Star M...</td>\n",
       "      <td>CONVERSE</td>\n",
       "      <td>72.00€\\n80.00€</td>\n",
       "    </tr>\n",
       "    <tr>\n",
       "      <th>2</th>\n",
       "      <td>Zapatilla Mujer  Converse Lift  Hi Top  Beige</td>\n",
       "      <td>CONVERSE</td>\n",
       "      <td>85.00€</td>\n",
       "    </tr>\n",
       "    <tr>\n",
       "      <th>3</th>\n",
       "      <td>Zapatillas Mujer  Reebok Legacy 83  Verde</td>\n",
       "      <td>REEBOK</td>\n",
       "      <td>89.00€\\n100.00€</td>\n",
       "    </tr>\n",
       "    <tr>\n",
       "      <th>4</th>\n",
       "      <td>Zapatilla Adidas Mujer Courtphase Blanco</td>\n",
       "      <td>ADIDAS</td>\n",
       "      <td>70.00€</td>\n",
       "    </tr>\n",
       "  </tbody>\n",
       "</table>\n",
       "</div>"
      ],
      "text/plain": [
       "                                            Producto     Marca  \\\n",
       "0  Canvas Color Chuck Taylor All Star Move Low To...  CONVERSE   \n",
       "1  Zapatilla Canvas Color Chuck Taylor All Star M...  CONVERSE   \n",
       "2      Zapatilla Mujer  Converse Lift  Hi Top  Beige  CONVERSE   \n",
       "3          Zapatillas Mujer  Reebok Legacy 83  Verde    REEBOK   \n",
       "4           Zapatilla Adidas Mujer Courtphase Blanco    ADIDAS   \n",
       "\n",
       "            Precio  \n",
       "0   71.20€\\n80.00€  \n",
       "1   72.00€\\n80.00€  \n",
       "2           85.00€  \n",
       "3  89.00€\\n100.00€  \n",
       "4           70.00€  "
      ]
     },
     "execution_count": 21,
     "metadata": {},
     "output_type": "execute_result"
    }
   ],
   "source": [
    "df = pd.DataFrame(diccionario)\n",
    "df.head()"
   ]
  },
  {
   "cell_type": "code",
   "execution_count": 67,
   "id": "chicken-sewing",
   "metadata": {},
   "outputs": [],
   "source": [
    "def limpia_precio(x):\n",
    "    x = x.split(\"\\n\")\n",
    "    x = x[0].split(\"€\")\n",
    "    return x[0] + \" €\""
   ]
  },
  {
   "cell_type": "code",
   "execution_count": 23,
   "id": "alike-generator",
   "metadata": {},
   "outputs": [
    {
     "data": {
      "text/html": [
       "<div>\n",
       "<style scoped>\n",
       "    .dataframe tbody tr th:only-of-type {\n",
       "        vertical-align: middle;\n",
       "    }\n",
       "\n",
       "    .dataframe tbody tr th {\n",
       "        vertical-align: top;\n",
       "    }\n",
       "\n",
       "    .dataframe thead th {\n",
       "        text-align: right;\n",
       "    }\n",
       "</style>\n",
       "<table border=\"1\" class=\"dataframe\">\n",
       "  <thead>\n",
       "    <tr style=\"text-align: right;\">\n",
       "      <th></th>\n",
       "      <th>Producto</th>\n",
       "      <th>Marca</th>\n",
       "      <th>Precio</th>\n",
       "      <th>Precio_nuevo</th>\n",
       "    </tr>\n",
       "  </thead>\n",
       "  <tbody>\n",
       "    <tr>\n",
       "      <th>0</th>\n",
       "      <td>Canvas Color Chuck Taylor All Star Move Low To...</td>\n",
       "      <td>CONVERSE</td>\n",
       "      <td>71.20€\\n80.00€</td>\n",
       "      <td>71.20 €</td>\n",
       "    </tr>\n",
       "    <tr>\n",
       "      <th>1</th>\n",
       "      <td>Zapatilla Canvas Color Chuck Taylor All Star M...</td>\n",
       "      <td>CONVERSE</td>\n",
       "      <td>72.00€\\n80.00€</td>\n",
       "      <td>72.00 €</td>\n",
       "    </tr>\n",
       "    <tr>\n",
       "      <th>2</th>\n",
       "      <td>Zapatilla Mujer  Converse Lift  Hi Top  Beige</td>\n",
       "      <td>CONVERSE</td>\n",
       "      <td>85.00€</td>\n",
       "      <td>85.00 €</td>\n",
       "    </tr>\n",
       "    <tr>\n",
       "      <th>3</th>\n",
       "      <td>Zapatillas Mujer  Reebok Legacy 83  Verde</td>\n",
       "      <td>REEBOK</td>\n",
       "      <td>89.00€\\n100.00€</td>\n",
       "      <td>89.00 €</td>\n",
       "    </tr>\n",
       "    <tr>\n",
       "      <th>4</th>\n",
       "      <td>Zapatilla Adidas Mujer Courtphase Blanco</td>\n",
       "      <td>ADIDAS</td>\n",
       "      <td>70.00€</td>\n",
       "      <td>70.00 €</td>\n",
       "    </tr>\n",
       "  </tbody>\n",
       "</table>\n",
       "</div>"
      ],
      "text/plain": [
       "                                            Producto     Marca  \\\n",
       "0  Canvas Color Chuck Taylor All Star Move Low To...  CONVERSE   \n",
       "1  Zapatilla Canvas Color Chuck Taylor All Star M...  CONVERSE   \n",
       "2      Zapatilla Mujer  Converse Lift  Hi Top  Beige  CONVERSE   \n",
       "3          Zapatillas Mujer  Reebok Legacy 83  Verde    REEBOK   \n",
       "4           Zapatilla Adidas Mujer Courtphase Blanco    ADIDAS   \n",
       "\n",
       "            Precio Precio_nuevo  \n",
       "0   71.20€\\n80.00€      71.20 €  \n",
       "1   72.00€\\n80.00€      72.00 €  \n",
       "2           85.00€      85.00 €  \n",
       "3  89.00€\\n100.00€      89.00 €  \n",
       "4           70.00€      70.00 €  "
      ]
     },
     "execution_count": 23,
     "metadata": {},
     "output_type": "execute_result"
    }
   ],
   "source": [
    "df[\"Precio_nuevo\"] = df.Precio.apply(limpia_precio)\n",
    "df.head()"
   ]
  },
  {
   "cell_type": "code",
   "execution_count": 66,
   "id": "bright-edmonton",
   "metadata": {},
   "outputs": [],
   "source": [
    "def precio_viejo(x):\n",
    "    x = x.split(\"\\n\")\n",
    "    if len(x) > 1:\n",
    "        x = x[1].split(\"€\")\n",
    "        return x[0] + \" €\"\n",
    "    else:\n",
    "        x = x[0].split(\"€\")\n",
    "    return x[0] + \" €\""
   ]
  },
  {
   "cell_type": "code",
   "execution_count": 25,
   "id": "polar-dependence",
   "metadata": {},
   "outputs": [],
   "source": [
    "df[\"Viejo\"] = df.Precio.apply(precio_viejo)"
   ]
  },
  {
   "cell_type": "code",
   "execution_count": 26,
   "id": "quick-founder",
   "metadata": {},
   "outputs": [
    {
     "data": {
      "text/html": [
       "<div>\n",
       "<style scoped>\n",
       "    .dataframe tbody tr th:only-of-type {\n",
       "        vertical-align: middle;\n",
       "    }\n",
       "\n",
       "    .dataframe tbody tr th {\n",
       "        vertical-align: top;\n",
       "    }\n",
       "\n",
       "    .dataframe thead th {\n",
       "        text-align: right;\n",
       "    }\n",
       "</style>\n",
       "<table border=\"1\" class=\"dataframe\">\n",
       "  <thead>\n",
       "    <tr style=\"text-align: right;\">\n",
       "      <th></th>\n",
       "      <th>Producto</th>\n",
       "      <th>Marca</th>\n",
       "      <th>Precio</th>\n",
       "      <th>Precio_nuevo</th>\n",
       "      <th>Viejo</th>\n",
       "    </tr>\n",
       "  </thead>\n",
       "  <tbody>\n",
       "    <tr>\n",
       "      <th>0</th>\n",
       "      <td>Canvas Color Chuck Taylor All Star Move Low To...</td>\n",
       "      <td>CONVERSE</td>\n",
       "      <td>71.20€\\n80.00€</td>\n",
       "      <td>71.20 €</td>\n",
       "      <td>80.00 €</td>\n",
       "    </tr>\n",
       "    <tr>\n",
       "      <th>1</th>\n",
       "      <td>Zapatilla Canvas Color Chuck Taylor All Star M...</td>\n",
       "      <td>CONVERSE</td>\n",
       "      <td>72.00€\\n80.00€</td>\n",
       "      <td>72.00 €</td>\n",
       "      <td>80.00 €</td>\n",
       "    </tr>\n",
       "    <tr>\n",
       "      <th>2</th>\n",
       "      <td>Zapatilla Mujer  Converse Lift  Hi Top  Beige</td>\n",
       "      <td>CONVERSE</td>\n",
       "      <td>85.00€</td>\n",
       "      <td>85.00 €</td>\n",
       "      <td>85.00 €</td>\n",
       "    </tr>\n",
       "    <tr>\n",
       "      <th>3</th>\n",
       "      <td>Zapatillas Mujer  Reebok Legacy 83  Verde</td>\n",
       "      <td>REEBOK</td>\n",
       "      <td>89.00€\\n100.00€</td>\n",
       "      <td>89.00 €</td>\n",
       "      <td>100.00 €</td>\n",
       "    </tr>\n",
       "    <tr>\n",
       "      <th>4</th>\n",
       "      <td>Zapatilla Adidas Mujer Courtphase Blanco</td>\n",
       "      <td>ADIDAS</td>\n",
       "      <td>70.00€</td>\n",
       "      <td>70.00 €</td>\n",
       "      <td>70.00 €</td>\n",
       "    </tr>\n",
       "  </tbody>\n",
       "</table>\n",
       "</div>"
      ],
      "text/plain": [
       "                                            Producto     Marca  \\\n",
       "0  Canvas Color Chuck Taylor All Star Move Low To...  CONVERSE   \n",
       "1  Zapatilla Canvas Color Chuck Taylor All Star M...  CONVERSE   \n",
       "2      Zapatilla Mujer  Converse Lift  Hi Top  Beige  CONVERSE   \n",
       "3          Zapatillas Mujer  Reebok Legacy 83  Verde    REEBOK   \n",
       "4           Zapatilla Adidas Mujer Courtphase Blanco    ADIDAS   \n",
       "\n",
       "            Precio Precio_nuevo     Viejo  \n",
       "0   71.20€\\n80.00€      71.20 €   80.00 €  \n",
       "1   72.00€\\n80.00€      72.00 €   80.00 €  \n",
       "2           85.00€      85.00 €   85.00 €  \n",
       "3  89.00€\\n100.00€      89.00 €  100.00 €  \n",
       "4           70.00€      70.00 €   70.00 €  "
      ]
     },
     "execution_count": 26,
     "metadata": {},
     "output_type": "execute_result"
    }
   ],
   "source": [
    "df.head()"
   ]
  },
  {
   "cell_type": "code",
   "execution_count": 32,
   "id": "varied-lover",
   "metadata": {},
   "outputs": [],
   "source": [
    "soup_enlaces = soup.select(\"a\",{\"style\": \"padding-left: 0px !important;padding-right: 0px !important;\"})"
   ]
  },
  {
   "cell_type": "code",
   "execution_count": 106,
   "id": "cordless-contractor",
   "metadata": {},
   "outputs": [
    {
     "data": {
      "text/plain": [
       "<a href=\"/13-gorras-hombre\">Gorras</a>"
      ]
     },
     "execution_count": 106,
     "metadata": {},
     "output_type": "execute_result"
    }
   ],
   "source": [
    "soup_enlaces[19]"
   ]
  },
  {
   "cell_type": "code",
   "execution_count": 105,
   "id": "annoying-maria",
   "metadata": {},
   "outputs": [
    {
     "data": {
      "text/plain": [
       "{'href': '/15-cuidado-calzado-hombre'}"
      ]
     },
     "execution_count": 105,
     "metadata": {},
     "output_type": "execute_result"
    }
   ],
   "source": [
    "soup_enlaces[21].attrs"
   ]
  },
  {
   "cell_type": "code",
   "execution_count": 73,
   "id": "adapted-discipline",
   "metadata": {},
   "outputs": [
    {
     "data": {
      "text/plain": [
       "'/13-gorras-hombre'"
      ]
     },
     "execution_count": 73,
     "metadata": {},
     "output_type": "execute_result"
    }
   ],
   "source": [
    "soup_enlaces[19].get(\"href\")"
   ]
  },
  {
   "cell_type": "code",
   "execution_count": 37,
   "id": "uniform-bankruptcy",
   "metadata": {},
   "outputs": [],
   "source": [
    "import re"
   ]
  },
  {
   "cell_type": "code",
   "execution_count": 39,
   "id": "appointed-boulder",
   "metadata": {},
   "outputs": [],
   "source": [
    "enlaces = [a.get(\"href\") for a in soup_enlaces if re.match(\"\\/\\d+.*\", a.get(\"href\"))]"
   ]
  },
  {
   "cell_type": "code",
   "execution_count": 107,
   "id": "downtown-debut",
   "metadata": {},
   "outputs": [],
   "source": [
    "#enlaces"
   ]
  },
  {
   "cell_type": "code",
   "execution_count": 61,
   "id": "working-fighter",
   "metadata": {},
   "outputs": [],
   "source": [
    "def escrapea_todo(enlaces):\n",
    "    basic = \"https://www.murallasport.com\"\n",
    "    dataframes = []\n",
    "    for enlace in enlaces:\n",
    "        url = basic + enlace\n",
    "        html = requests.get(url)\n",
    "        soup = BeautifulSoup(html.content, \"html.parser\")\n",
    "        nombres = soup.find_all(\"div\", {\"class\": \"name_product_box\"})\n",
    "        lista_nombres = [a.getText().strip() for a in nombres]\n",
    "        precios = soup.find_all(\"div\", {\"class\":\"price_product_box\"})\n",
    "        lista_precios = [precio.getText().strip() for precio in precios]\n",
    "        marcas = soup.find_all(\"span\", {\"class\": \"marca-product-box\"})\n",
    "        lista_marcas = [marca.getText().strip() for marca in marcas]\n",
    "        diccionario = {\"Producto\": lista_nombres, \"Marca\": lista_marcas, \"Precio\": lista_precios}\n",
    "        df = pd.DataFrame(diccionario)\n",
    "        dataframes.append(df)\n",
    "    return pd.concat(dataframes, axis=0)"
   ]
  },
  {
   "cell_type": "code",
   "execution_count": 62,
   "id": "combined-christmas",
   "metadata": {},
   "outputs": [],
   "source": [
    "data = escrapea_todo(enlaces)"
   ]
  },
  {
   "cell_type": "code",
   "execution_count": 63,
   "id": "cellular-vector",
   "metadata": {},
   "outputs": [
    {
     "data": {
      "text/html": [
       "<div>\n",
       "<style scoped>\n",
       "    .dataframe tbody tr th:only-of-type {\n",
       "        vertical-align: middle;\n",
       "    }\n",
       "\n",
       "    .dataframe tbody tr th {\n",
       "        vertical-align: top;\n",
       "    }\n",
       "\n",
       "    .dataframe thead th {\n",
       "        text-align: right;\n",
       "    }\n",
       "</style>\n",
       "<table border=\"1\" class=\"dataframe\">\n",
       "  <thead>\n",
       "    <tr style=\"text-align: right;\">\n",
       "      <th></th>\n",
       "      <th>Producto</th>\n",
       "      <th>Marca</th>\n",
       "      <th>Precio</th>\n",
       "    </tr>\n",
       "  </thead>\n",
       "  <tbody>\n",
       "    <tr>\n",
       "      <th>0</th>\n",
       "      <td>Zapatilla Converse Starplayer   Beige</td>\n",
       "      <td>CONVERSE</td>\n",
       "      <td>63.00€\\n70.00€</td>\n",
       "    </tr>\n",
       "    <tr>\n",
       "      <th>1</th>\n",
       "      <td>Zapatilla Puma Future Rider Play On Azul</td>\n",
       "      <td>PUMA</td>\n",
       "      <td>78.30€\\n90.00€</td>\n",
       "    </tr>\n",
       "    <tr>\n",
       "      <th>2</th>\n",
       "      <td>Zapatilla Adidas Breaknet Plus Blanco</td>\n",
       "      <td>ADIDAS</td>\n",
       "      <td>49.00€\\n70.00€</td>\n",
       "    </tr>\n",
       "    <tr>\n",
       "      <th>3</th>\n",
       "      <td>Zapatilla Adidas Run 60s 2.0 Negro</td>\n",
       "      <td>ADIDAS</td>\n",
       "      <td>49.50€\\n55.00€</td>\n",
       "    </tr>\n",
       "    <tr>\n",
       "      <th>4</th>\n",
       "      <td>Zapatilla Adidas Run 60s 2.0 Azul</td>\n",
       "      <td>ADIDAS</td>\n",
       "      <td>55.00€</td>\n",
       "    </tr>\n",
       "  </tbody>\n",
       "</table>\n",
       "</div>"
      ],
      "text/plain": [
       "                                   Producto     Marca          Precio\n",
       "0     Zapatilla Converse Starplayer   Beige  CONVERSE  63.00€\\n70.00€\n",
       "1  Zapatilla Puma Future Rider Play On Azul      PUMA  78.30€\\n90.00€\n",
       "2     Zapatilla Adidas Breaknet Plus Blanco    ADIDAS  49.00€\\n70.00€\n",
       "3        Zapatilla Adidas Run 60s 2.0 Negro    ADIDAS  49.50€\\n55.00€\n",
       "4         Zapatilla Adidas Run 60s 2.0 Azul    ADIDAS          55.00€"
      ]
     },
     "execution_count": 63,
     "metadata": {},
     "output_type": "execute_result"
    }
   ],
   "source": [
    "data.head()"
   ]
  },
  {
   "cell_type": "code",
   "execution_count": 68,
   "id": "trained-activation",
   "metadata": {},
   "outputs": [],
   "source": [
    "data[\"Precio_nuevo\"] = data.Precio.apply(limpia_precio)\n",
    "data[\"Viejo\"] = data.Precio.apply(precio_viejo)"
   ]
  },
  {
   "cell_type": "code",
   "execution_count": 76,
   "id": "representative-massachusetts",
   "metadata": {},
   "outputs": [
    {
     "data": {
      "text/html": [
       "<div>\n",
       "<style scoped>\n",
       "    .dataframe tbody tr th:only-of-type {\n",
       "        vertical-align: middle;\n",
       "    }\n",
       "\n",
       "    .dataframe tbody tr th {\n",
       "        vertical-align: top;\n",
       "    }\n",
       "\n",
       "    .dataframe thead th {\n",
       "        text-align: right;\n",
       "    }\n",
       "</style>\n",
       "<table border=\"1\" class=\"dataframe\">\n",
       "  <thead>\n",
       "    <tr style=\"text-align: right;\">\n",
       "      <th></th>\n",
       "      <th>Producto</th>\n",
       "      <th>Marca</th>\n",
       "      <th>Precio</th>\n",
       "      <th>Precio_nuevo</th>\n",
       "      <th>Viejo</th>\n",
       "    </tr>\n",
       "  </thead>\n",
       "  <tbody>\n",
       "    <tr>\n",
       "      <th>0</th>\n",
       "      <td>Zapatilla Converse Starplayer   Beige</td>\n",
       "      <td>CONVERSE</td>\n",
       "      <td>63.00€\\n70.00€</td>\n",
       "      <td>63.00 €</td>\n",
       "      <td>70.00 €</td>\n",
       "    </tr>\n",
       "    <tr>\n",
       "      <th>1</th>\n",
       "      <td>Zapatilla Puma Future Rider Play On Azul</td>\n",
       "      <td>PUMA</td>\n",
       "      <td>78.30€\\n90.00€</td>\n",
       "      <td>78.30 €</td>\n",
       "      <td>90.00 €</td>\n",
       "    </tr>\n",
       "    <tr>\n",
       "      <th>2</th>\n",
       "      <td>Zapatilla Adidas Breaknet Plus Blanco</td>\n",
       "      <td>ADIDAS</td>\n",
       "      <td>49.00€\\n70.00€</td>\n",
       "      <td>49.00 €</td>\n",
       "      <td>70.00 €</td>\n",
       "    </tr>\n",
       "    <tr>\n",
       "      <th>3</th>\n",
       "      <td>Zapatilla Adidas Run 60s 2.0 Negro</td>\n",
       "      <td>ADIDAS</td>\n",
       "      <td>49.50€\\n55.00€</td>\n",
       "      <td>49.50 €</td>\n",
       "      <td>55.00 €</td>\n",
       "    </tr>\n",
       "    <tr>\n",
       "      <th>4</th>\n",
       "      <td>Zapatilla Adidas Run 60s 2.0 Azul</td>\n",
       "      <td>ADIDAS</td>\n",
       "      <td>55.00€</td>\n",
       "      <td>55.00 €</td>\n",
       "      <td>55.00 €</td>\n",
       "    </tr>\n",
       "  </tbody>\n",
       "</table>\n",
       "</div>"
      ],
      "text/plain": [
       "                                   Producto     Marca          Precio  \\\n",
       "0     Zapatilla Converse Starplayer   Beige  CONVERSE  63.00€\\n70.00€   \n",
       "1  Zapatilla Puma Future Rider Play On Azul      PUMA  78.30€\\n90.00€   \n",
       "2     Zapatilla Adidas Breaknet Plus Blanco    ADIDAS  49.00€\\n70.00€   \n",
       "3        Zapatilla Adidas Run 60s 2.0 Negro    ADIDAS  49.50€\\n55.00€   \n",
       "4         Zapatilla Adidas Run 60s 2.0 Azul    ADIDAS          55.00€   \n",
       "\n",
       "  Precio_nuevo    Viejo  \n",
       "0      63.00 €  70.00 €  \n",
       "1      78.30 €  90.00 €  \n",
       "2      49.00 €  70.00 €  \n",
       "3      49.50 €  55.00 €  \n",
       "4      55.00 €  55.00 €  "
      ]
     },
     "execution_count": 76,
     "metadata": {},
     "output_type": "execute_result"
    }
   ],
   "source": [
    "data.head()"
   ]
  },
  {
   "cell_type": "code",
   "execution_count": 75,
   "id": "negative-andrews",
   "metadata": {},
   "outputs": [
    {
     "data": {
      "text/plain": [
       "(3185, 5)"
      ]
     },
     "execution_count": 75,
     "metadata": {},
     "output_type": "execute_result"
    }
   ],
   "source": [
    "data.shape"
   ]
  },
  {
   "cell_type": "markdown",
   "id": "experimental-program",
   "metadata": {},
   "source": [
    "### Ejemplo wikipedia medallero"
   ]
  },
  {
   "cell_type": "code",
   "execution_count": 77,
   "id": "moral-routine",
   "metadata": {},
   "outputs": [],
   "source": [
    "url_medallero='https://es.wikipedia.org/wiki/Juegos_Ol%C3%ADmpicos_de_Barcelona_1992'\n",
    "html_medallero = requests.get(url_medallero)"
   ]
  },
  {
   "cell_type": "code",
   "execution_count": 78,
   "id": "secure-enlargement",
   "metadata": {},
   "outputs": [],
   "source": [
    "#soup\n",
    "soup = BeautifulSoup(html_medallero.content, \"html.parser\")"
   ]
  },
  {
   "cell_type": "code",
   "execution_count": 80,
   "id": "collectible-bulgarian",
   "metadata": {},
   "outputs": [
    {
     "data": {
      "text/plain": [
       "14"
      ]
     },
     "execution_count": 80,
     "metadata": {},
     "output_type": "execute_result"
    }
   ],
   "source": [
    "#Tablas :)\n",
    "tablas = soup.find_all(\"table\")\n",
    "len(tablas)"
   ]
  },
  {
   "cell_type": "code",
   "execution_count": 83,
   "id": "maritime-hypothesis",
   "metadata": {},
   "outputs": [],
   "source": [
    "# Aquí hemos seleccionado la última tabla de la página de wikipedia\n",
    "ultima = tablas[-1]"
   ]
  },
  {
   "cell_type": "code",
   "execution_count": 96,
   "id": "convenient-valuation",
   "metadata": {},
   "outputs": [
    {
     "data": {
      "text/plain": [
       "<a href=\"/wiki/Control_de_autoridades\" title=\"Control de autoridades\">Control de autoridades</a>"
      ]
     },
     "execution_count": 96,
     "metadata": {},
     "output_type": "execute_result"
    }
   ],
   "source": [
    "# Busco todo lo que tenga la etiqueta \"a\" y como findall me devuelve una lista, me quedo con el primer elemento\n",
    "#porque vamos a ver unas funcionalidades de soup \n",
    "elemento = ultima.find_all(\"a\")[0]\n",
    "elemento"
   ]
  },
  {
   "cell_type": "code",
   "execution_count": 93,
   "id": "classical-confirmation",
   "metadata": {},
   "outputs": [
    {
     "data": {
      "text/plain": [
       "'Control de autoridades'"
      ]
     },
     "execution_count": 93,
     "metadata": {},
     "output_type": "execute_result"
    }
   ],
   "source": [
    "# contenido de la caja, en este caso texto\n",
    "elemento.text"
   ]
  },
  {
   "cell_type": "code",
   "execution_count": 94,
   "id": "chinese-criminal",
   "metadata": {},
   "outputs": [
    {
     "data": {
      "text/plain": [
       "['Control de autoridades']"
      ]
     },
     "execution_count": 94,
     "metadata": {},
     "output_type": "execute_result"
    }
   ],
   "source": [
    "# contenido como una lista\n",
    "elemento.contents"
   ]
  },
  {
   "cell_type": "code",
   "execution_count": 110,
   "id": "angry-somerset",
   "metadata": {},
   "outputs": [
    {
     "data": {
      "text/plain": [
       "{'href': '/wiki/Control_de_autoridades', 'title': 'Control de autoridades'}"
      ]
     },
     "execution_count": 110,
     "metadata": {},
     "output_type": "execute_result"
    }
   ],
   "source": [
    "# extraigo los atributos de etiqueta con attrs\n",
    "# https://www.crummy.com/software/BeautifulSoup/bs4/doc/#attributes\n",
    "elemento.attrs"
   ]
  },
  {
   "cell_type": "code",
   "execution_count": 109,
   "id": "interpreted-franklin",
   "metadata": {},
   "outputs": [
    {
     "data": {
      "text/plain": [
       "'Control de autoridades'"
      ]
     },
     "execution_count": 109,
     "metadata": {},
     "output_type": "execute_result"
    }
   ],
   "source": [
    "# Si conzco el atributo extraigo el valor con .get(\"elnombredelatributo\")\n",
    "elemento.get(\"title\")"
   ]
  },
  {
   "cell_type": "code",
   "execution_count": null,
   "id": "supposed-portable",
   "metadata": {},
   "outputs": [],
   "source": [
    "#medallero"
   ]
  },
  {
   "cell_type": "code",
   "execution_count": 111,
   "id": "intelligent-breeding",
   "metadata": {},
   "outputs": [],
   "source": [
    "medallero = soup.find_all(\"table\")[-4]"
   ]
  },
  {
   "cell_type": "code",
   "execution_count": 138,
   "id": "relative-business",
   "metadata": {},
   "outputs": [
    {
     "data": {
      "text/plain": [
       "<tr>\n",
       "<td>1</td>\n",
       "<td align=\"left\"><img alt=\"Equipo Unificado\" class=\"thumbborder\" data-file-height=\"600\" data-file-width=\"900\" decoding=\"async\" height=\"15\" src=\"//upload.wikimedia.org/wikipedia/commons/thumb/a/a7/Olympic_flag.svg/22px-Olympic_flag.svg.png\" srcset=\"//upload.wikimedia.org/wikipedia/commons/thumb/a/a7/Olympic_flag.svg/33px-Olympic_flag.svg.png 1.5x, //upload.wikimedia.org/wikipedia/commons/thumb/a/a7/Olympic_flag.svg/44px-Olympic_flag.svg.png 2x\" width=\"22\"/> <a href=\"/wiki/Equipo_Unificado_en_los_Juegos_Ol%C3%ADmpicos_de_Barcelona_1992\" title=\"Equipo Unificado en los Juegos Olímpicos de Barcelona 1992\">Equipo Unificado </a> <small>(EUN)</small></td>\n",
       "<td>45</td>\n",
       "<td>38</td>\n",
       "<td>29</td>\n",
       "<td>112\n",
       "</td></tr>"
      ]
     },
     "execution_count": 138,
     "metadata": {},
     "output_type": "execute_result"
    }
   ],
   "source": [
    "medallero.find_all(\"tr\")[1]"
   ]
  },
  {
   "cell_type": "code",
   "execution_count": 136,
   "id": "legal-tactics",
   "metadata": {},
   "outputs": [
    {
     "data": {
      "text/plain": [
       "'Equipo Unificado'"
      ]
     },
     "execution_count": 136,
     "metadata": {},
     "output_type": "execute_result"
    }
   ],
   "source": [
    "# Sacamos el nombre del equipo \n",
    "medallero.find_all(\"tr\")[1].find_all(\"td\")[1].find(\"a\").text.strip()"
   ]
  },
  {
   "cell_type": "code",
   "execution_count": 139,
   "id": "environmental-classic",
   "metadata": {},
   "outputs": [
    {
     "data": {
      "text/plain": [
       "'45'"
      ]
     },
     "execution_count": 139,
     "metadata": {},
     "output_type": "execute_result"
    }
   ],
   "source": [
    "# sacamos los oros\n",
    "medallero.find_all(\"tr\")[1].find_all(\"td\")[2].text"
   ]
  },
  {
   "cell_type": "code",
   "execution_count": 125,
   "id": "molecular-tackle",
   "metadata": {},
   "outputs": [
    {
     "data": {
      "text/plain": [
       "<td>38</td>"
      ]
     },
     "execution_count": 125,
     "metadata": {},
     "output_type": "execute_result"
    }
   ],
   "source": [
    "# sacamos la plata\n",
    "medallero.find_all(\"tr\")[1].find_all(\"td\")[3]"
   ]
  },
  {
   "cell_type": "code",
   "execution_count": 126,
   "id": "dedicated-avenue",
   "metadata": {},
   "outputs": [
    {
     "data": {
      "text/plain": [
       "<td>29</td>"
      ]
     },
     "execution_count": 126,
     "metadata": {},
     "output_type": "execute_result"
    }
   ],
   "source": [
    "# sacamos los bronces\n",
    "medallero.find_all(\"tr\")[1].find_all(\"td\")[4]"
   ]
  },
  {
   "cell_type": "code",
   "execution_count": 134,
   "id": "clear-handbook",
   "metadata": {},
   "outputs": [
    {
     "data": {
      "text/plain": [
       "<td>112\n",
       "</td>"
      ]
     },
     "execution_count": 134,
     "metadata": {},
     "output_type": "execute_result"
    }
   ],
   "source": [
    "medallero.find_all(\"tr\")[1].find_all(\"td\")[5]"
   ]
  },
  {
   "cell_type": "code",
   "execution_count": 141,
   "id": "smaller-specification",
   "metadata": {},
   "outputs": [],
   "source": [
    "med_paises = []\n",
    "for f in medallero.find_all(\"tr\"): # lista con las filas de la tabla\n",
    "    fila = [e for e in f.find_all(\"td\")] # elementos que hay dentro de cada fila\n",
    "    if len(fila) > 0:\n",
    "        pais = { \"nombre\" : fila[1].find(\"a\").text.strip(),\n",
    "                \"oros\": int(fila[2].text),\n",
    "                \"plata\": int(fila[3].text),\n",
    "                \"bronce\": int(fila[4].text),\n",
    "                \"total\": int(fila[5].text)\n",
    "        }\n",
    "        \n",
    "        med_paises.append(pais)"
   ]
  },
  {
   "cell_type": "code",
   "execution_count": 142,
   "id": "speaking-fetish",
   "metadata": {},
   "outputs": [
    {
     "data": {
      "text/html": [
       "<div>\n",
       "<style scoped>\n",
       "    .dataframe tbody tr th:only-of-type {\n",
       "        vertical-align: middle;\n",
       "    }\n",
       "\n",
       "    .dataframe tbody tr th {\n",
       "        vertical-align: top;\n",
       "    }\n",
       "\n",
       "    .dataframe thead th {\n",
       "        text-align: right;\n",
       "    }\n",
       "</style>\n",
       "<table border=\"1\" class=\"dataframe\">\n",
       "  <thead>\n",
       "    <tr style=\"text-align: right;\">\n",
       "      <th></th>\n",
       "      <th>nombre</th>\n",
       "      <th>oros</th>\n",
       "      <th>plata</th>\n",
       "      <th>bronce</th>\n",
       "      <th>total</th>\n",
       "    </tr>\n",
       "  </thead>\n",
       "  <tbody>\n",
       "    <tr>\n",
       "      <th>0</th>\n",
       "      <td>Equipo Unificado</td>\n",
       "      <td>45</td>\n",
       "      <td>38</td>\n",
       "      <td>29</td>\n",
       "      <td>112</td>\n",
       "    </tr>\n",
       "    <tr>\n",
       "      <th>1</th>\n",
       "      <td>Estados Unidos</td>\n",
       "      <td>37</td>\n",
       "      <td>34</td>\n",
       "      <td>37</td>\n",
       "      <td>108</td>\n",
       "    </tr>\n",
       "    <tr>\n",
       "      <th>2</th>\n",
       "      <td>Alemania</td>\n",
       "      <td>33</td>\n",
       "      <td>21</td>\n",
       "      <td>28</td>\n",
       "      <td>82</td>\n",
       "    </tr>\n",
       "    <tr>\n",
       "      <th>3</th>\n",
       "      <td>China</td>\n",
       "      <td>16</td>\n",
       "      <td>22</td>\n",
       "      <td>16</td>\n",
       "      <td>54</td>\n",
       "    </tr>\n",
       "    <tr>\n",
       "      <th>4</th>\n",
       "      <td>Cuba</td>\n",
       "      <td>14</td>\n",
       "      <td>6</td>\n",
       "      <td>11</td>\n",
       "      <td>31</td>\n",
       "    </tr>\n",
       "  </tbody>\n",
       "</table>\n",
       "</div>"
      ],
      "text/plain": [
       "             nombre  oros  plata  bronce  total\n",
       "0  Equipo Unificado    45     38      29    112\n",
       "1    Estados Unidos    37     34      37    108\n",
       "2          Alemania    33     21      28     82\n",
       "3             China    16     22      16     54\n",
       "4              Cuba    14      6      11     31"
      ]
     },
     "execution_count": 142,
     "metadata": {},
     "output_type": "execute_result"
    }
   ],
   "source": [
    "data = pd.DataFrame(med_paises)\n",
    "data.head()"
   ]
  },
  {
   "cell_type": "markdown",
   "id": "romantic-edition",
   "metadata": {},
   "source": [
    "### Ejemplo Wikipedia Enlaces"
   ]
  },
  {
   "cell_type": "code",
   "execution_count": 143,
   "id": "fabulous-indian",
   "metadata": {},
   "outputs": [],
   "source": [
    "url_rufus = \"https://es.wikipedia.org/wiki/Rufus_T._Firefly\""
   ]
  },
  {
   "cell_type": "markdown",
   "id": "missing-jimmy",
   "metadata": {},
   "source": [
    "Documentación de Beautiful Soup     \n",
    "KeyError: [attr] - Caused by accessing tag['attr'] when the tag in question doesn’t define the attr attribute. The most common errors are KeyError: 'href' and KeyError: 'class'. Use tag.get('attr') if you’re not sure attr is defined, just as you would with a Python dictionary."
   ]
  },
  {
   "cell_type": "code",
   "execution_count": 144,
   "id": "purple-management",
   "metadata": {},
   "outputs": [],
   "source": [
    "res_rufus = requests.get(url_rufus)"
   ]
  },
  {
   "cell_type": "code",
   "execution_count": 145,
   "id": "short-cradle",
   "metadata": {},
   "outputs": [],
   "source": [
    "# Acordaos de poner el content pls\n",
    "soup = BeautifulSoup(res_rufus.content, \"html.parser\")"
   ]
  },
  {
   "cell_type": "code",
   "execution_count": 152,
   "id": "vital-nevada",
   "metadata": {},
   "outputs": [],
   "source": [
    "# Sabemos que los enlaces están dentro de una etiqueta \"a\" que es la etiqueta de hipervínculo\n",
    "tags = soup(\"a\")"
   ]
  },
  {
   "cell_type": "code",
   "execution_count": 170,
   "id": "sudden-trademark",
   "metadata": {},
   "outputs": [],
   "source": [
    "# BeautifulSoup me permite extraer los atributos si conozco el nombre con .get\n",
    "enlaces = [tag.get(\"href\") for tag in tags]"
   ]
  },
  {
   "cell_type": "code",
   "execution_count": 165,
   "id": "naked-camera",
   "metadata": {},
   "outputs": [
    {
     "data": {
      "text/plain": [
       "{'href': '/wiki/Palencia_Sonora', 'title': 'Palencia Sonora'}"
      ]
     },
     "execution_count": 165,
     "metadata": {},
     "output_type": "execute_result"
    }
   ],
   "source": [
    "# Saco los atributos en forma de diccionario \n",
    "tags[4].attrs"
   ]
  },
  {
   "cell_type": "code",
   "execution_count": 167,
   "id": "labeled-boxing",
   "metadata": {},
   "outputs": [
    {
     "data": {
      "text/plain": [
       "{'id': 'top'}"
      ]
     },
     "execution_count": 167,
     "metadata": {},
     "output_type": "execute_result"
    }
   ],
   "source": [
    "tags[0].attrs"
   ]
  },
  {
   "cell_type": "code",
   "execution_count": 155,
   "id": "pleasant-borough",
   "metadata": {},
   "outputs": [
    {
     "ename": "KeyError",
     "evalue": "'href'",
     "output_type": "error",
     "traceback": [
      "\u001b[0;31m---------------------------------------------------------------------------\u001b[0m",
      "\u001b[0;31mKeyError\u001b[0m                                  Traceback (most recent call last)",
      "\u001b[0;32m<ipython-input-155-98edf81e8b94>\u001b[0m in \u001b[0;36m<module>\u001b[0;34m\u001b[0m\n\u001b[1;32m      1\u001b[0m \u001b[0;31m# Si no todos los elementos tienen href este método no funciona\u001b[0m\u001b[0;34m\u001b[0m\u001b[0;34m\u001b[0m\u001b[0;34m\u001b[0m\u001b[0m\n\u001b[0;32m----> 2\u001b[0;31m \u001b[0menlaces2\u001b[0m \u001b[0;34m=\u001b[0m \u001b[0;34m[\u001b[0m\u001b[0mtag\u001b[0m\u001b[0;34m.\u001b[0m\u001b[0mattrs\u001b[0m\u001b[0;34m[\u001b[0m\u001b[0;34m\"href\"\u001b[0m\u001b[0;34m]\u001b[0m \u001b[0;32mfor\u001b[0m \u001b[0mtag\u001b[0m \u001b[0;32min\u001b[0m \u001b[0mtags\u001b[0m\u001b[0;34m]\u001b[0m\u001b[0;34m\u001b[0m\u001b[0;34m\u001b[0m\u001b[0m\n\u001b[0m",
      "\u001b[0;32m<ipython-input-155-98edf81e8b94>\u001b[0m in \u001b[0;36m<listcomp>\u001b[0;34m(.0)\u001b[0m\n\u001b[1;32m      1\u001b[0m \u001b[0;31m# Si no todos los elementos tienen href este método no funciona\u001b[0m\u001b[0;34m\u001b[0m\u001b[0;34m\u001b[0m\u001b[0;34m\u001b[0m\u001b[0m\n\u001b[0;32m----> 2\u001b[0;31m \u001b[0menlaces2\u001b[0m \u001b[0;34m=\u001b[0m \u001b[0;34m[\u001b[0m\u001b[0mtag\u001b[0m\u001b[0;34m.\u001b[0m\u001b[0mattrs\u001b[0m\u001b[0;34m[\u001b[0m\u001b[0;34m\"href\"\u001b[0m\u001b[0;34m]\u001b[0m \u001b[0;32mfor\u001b[0m \u001b[0mtag\u001b[0m \u001b[0;32min\u001b[0m \u001b[0mtags\u001b[0m\u001b[0;34m]\u001b[0m\u001b[0;34m\u001b[0m\u001b[0;34m\u001b[0m\u001b[0m\n\u001b[0m",
      "\u001b[0;31mKeyError\u001b[0m: 'href'"
     ]
    }
   ],
   "source": [
    "# Si no todos los elementos tienen href este método no funciona\n",
    "enlaces2 = [tag.attrs[\"href\"] for tag in tags]"
   ]
  },
  {
   "cell_type": "code",
   "execution_count": 173,
   "id": "young-boston",
   "metadata": {},
   "outputs": [],
   "source": [
    "enlaces_limpio = [enlace for enlace in enlaces[1:] if \"http\" in enlace]"
   ]
  },
  {
   "cell_type": "code",
   "execution_count": 175,
   "id": "ultimate-jenny",
   "metadata": {},
   "outputs": [],
   "source": [
    "#enlaces_limpio"
   ]
  },
  {
   "cell_type": "markdown",
   "id": "spoken-fleet",
   "metadata": {},
   "source": [
    "## Summary\n"
   ]
  },
  {
   "cell_type": "markdown",
   "id": "liberal-testament",
   "metadata": {},
   "source": [
    "- Utilizamos get text para extraer el contenido de la etiqueta\n",
    "- La librería que hace scroll es selenium [doc](https://www.selenium.dev/documentation/en/)\n",
    "- La sintaxis de find_all para las etiquetas es:      \n",
    "    - (\"etiqueta\", {\"atributo\": \"valor\"})\n",
    "    - (\"etiqueta\", atributo = valor) si poníamos class_ = valor\n",
    "    \n",
    "- Si utilizamos select necesitamos el selector css (div.nosequé) \n",
    "- .attrs nos saca un diccionario con los atributos\n",
    "- .content nos extrae también el contenido como una listqa\n",
    "- redenso, lo siento, os quiero, es lo que hay 😍\n",
    "- Os dejo [regex101](https://regex101.com/)\n",
    "- también un cheat sheet de regex [aquí](https://www.rexegg.com/regex-quickstart.html)"
   ]
  }
 ],
 "metadata": {
  "kernelspec": {
   "display_name": "Python 3 (ipykernel)",
   "language": "python",
   "name": "python3"
  },
  "language_info": {
   "codemirror_mode": {
    "name": "ipython",
    "version": 3
   },
   "file_extension": ".py",
   "mimetype": "text/x-python",
   "name": "python",
   "nbconvert_exporter": "python",
   "pygments_lexer": "ipython3",
   "version": "3.12.2"
  },
  "toc": {
   "base_numbering": 1,
   "nav_menu": {},
   "number_sections": true,
   "sideBar": true,
   "skip_h1_title": true,
   "title_cell": "Table of Contents",
   "title_sidebar": "Contents",
   "toc_cell": true,
   "toc_position": {},
   "toc_section_display": true,
   "toc_window_display": true
  }
 },
 "nbformat": 4,
 "nbformat_minor": 5
}
