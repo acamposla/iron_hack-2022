{
 "cells": [
  {
   "cell_type": "markdown",
   "id": "looking-favor",
   "metadata": {},
   "source": [
    "# APIS "
   ]
  },
  {
   "cell_type": "markdown",
   "id": "aggregate-occurrence",
   "metadata": {},
   "source": [
    "![apis_gif](https://media.giphy.com/media/wepUQluC5smgEd4Qz4/giphy.gif)"
   ]
  },
  {
   "cell_type": "markdown",
   "id": "ceramic-advocate",
   "metadata": {
    "toc": true
   },
   "source": [
    "<h1>Table of Contents<span class=\"tocSkip\"></span></h1>\n",
    "<div class=\"toc\"><ul class=\"toc-item\"><li><span><a href=\"#Internet,-DNS,-IPs\" data-toc-modified-id=\"Internet,-DNS,-IPs-1\"><span class=\"toc-item-num\">1&nbsp;&nbsp;</span>Internet, DNS, IPs</a></span></li><li><span><a href=\"#HTTP\" data-toc-modified-id=\"HTTP-2\"><span class=\"toc-item-num\">2&nbsp;&nbsp;</span>HTTP</a></span><ul class=\"toc-item\"><li><span><a href=\"#URL\" data-toc-modified-id=\"URL-2.1\"><span class=\"toc-item-num\">2.1&nbsp;&nbsp;</span>URL</a></span></li><li><span><a href=\"#HTTP-vs-HTTPS\" data-toc-modified-id=\"HTTP-vs-HTTPS-2.2\"><span class=\"toc-item-num\">2.2&nbsp;&nbsp;</span>HTTP vs HTTPS</a></span></li><li><span><a href=\"#Requests\" data-toc-modified-id=\"Requests-2.3\"><span class=\"toc-item-num\">2.3&nbsp;&nbsp;</span>Requests</a></span></li><li><span><a href=\"#Response\" data-toc-modified-id=\"Response-2.4\"><span class=\"toc-item-num\">2.4&nbsp;&nbsp;</span>Response</a></span></li></ul></li><li><span><a href=\"#API\" data-toc-modified-id=\"API-3\"><span class=\"toc-item-num\">3&nbsp;&nbsp;</span>API</a></span><ul class=\"toc-item\"><li><span><a href=\"#RESTful-APIs\" data-toc-modified-id=\"RESTful-APIs-3.1\"><span class=\"toc-item-num\">3.1&nbsp;&nbsp;</span>RESTful APIs</a></span></li></ul></li><li><span><a href=\"#Let's-go\" data-toc-modified-id=\"Let's-go-4\"><span class=\"toc-item-num\">4&nbsp;&nbsp;</span>Let's go</a></span><ul class=\"toc-item\"><li><span><a href=\"#Requests-in-Python\" data-toc-modified-id=\"Requests-in-Python-4.1\"><span class=\"toc-item-num\">4.1&nbsp;&nbsp;</span>Requests in Python</a></span></li><li><span><a href=\"#HTML-response\" data-toc-modified-id=\"HTML-response-4.2\"><span class=\"toc-item-num\">4.2&nbsp;&nbsp;</span>HTML response</a></span></li><li><span><a href=\"#JSON-response\" data-toc-modified-id=\"JSON-response-4.3\"><span class=\"toc-item-num\">4.3&nbsp;&nbsp;</span>JSON response</a></span></li><li><span><a href=\"#Managing-data-in-pandas\" data-toc-modified-id=\"Managing-data-in-pandas-4.4\"><span class=\"toc-item-num\">4.4&nbsp;&nbsp;</span>Managing data in pandas</a></span></li><li><span><a href=\"#Parameters\" data-toc-modified-id=\"Parameters-4.5\"><span class=\"toc-item-num\">4.5&nbsp;&nbsp;</span>Parameters</a></span></li></ul></li><li><span><a href=\"#Summary\" data-toc-modified-id=\"Summary-5\"><span class=\"toc-item-num\">5&nbsp;&nbsp;</span>Summary</a></span></li><li><span><a href=\"#Try-Yourself!\" data-toc-modified-id=\"Try-Yourself!-6\"><span class=\"toc-item-num\">6&nbsp;&nbsp;</span>Try Yourself!</a></span></li><li><span><a href=\"#Headers\" data-toc-modified-id=\"Headers-7\"><span class=\"toc-item-num\">7&nbsp;&nbsp;</span>Headers</a></span></li><li><span><a href=\"#API-Keys\" data-toc-modified-id=\"API-Keys-8\"><span class=\"toc-item-num\">8&nbsp;&nbsp;</span>API Keys</a></span></li><li><span><a href=\"#Summary\" data-toc-modified-id=\"Summary-9\"><span class=\"toc-item-num\">9&nbsp;&nbsp;</span>Summary</a></span></li><li><span><a href=\"#Further-materials\" data-toc-modified-id=\"Further-materials-10\"><span class=\"toc-item-num\">10&nbsp;&nbsp;</span>Further materials</a></span></li></ul></div>"
   ]
  },
  {
   "cell_type": "markdown",
   "id": "cosmetic-creator",
   "metadata": {},
   "source": [
    "## Internet, DNS, IPs"
   ]
  },
  {
   "cell_type": "markdown",
   "id": "suspended-macedonia",
   "metadata": {},
   "source": [
    "![enjuto](https://www.publico.es/files/article_main/uploads//2014/12/13/548bb18f1d9ef.jpg)"
   ]
  },
  {
   "cell_type": "markdown",
   "id": "postal-disco",
   "metadata": {},
   "source": [
    "[How do we connect to www.google.com?](https://www.youtube.com/watch?v=sUhEqT_HSBI&ab_channel=ProfeSang)"
   ]
  },
  {
   "cell_type": "markdown",
   "id": "suspected-coordinator",
   "metadata": {},
   "source": [
    " * DNS (domain name server): maps internet address www.google.com to server IP: 216.58.222.196\n",
    " * IP: server identification. |code that allow information to be sent and received by the correct parties   \n",
    " * Domain providers: they sell and buy internet domains"
   ]
  },
  {
   "cell_type": "markdown",
   "id": "oriented-bride",
   "metadata": {},
   "source": [
    "## HTTP"
   ]
  },
  {
   "cell_type": "markdown",
   "id": "actual-baseball",
   "metadata": {},
   "source": [
    "**H**yper **T**ext **T**ransfer **P**rotocol   \n",
    "HTTP is a communications protocol that provides a structure for requests between client and server in a network.    \n",
    "For example, the Web browser in the user's computer (the client) employs the HTTP protocol to request information from a website on a server. "
   ]
  },
  {
   "cell_type": "markdown",
   "id": "aquatic-forty",
   "metadata": {},
   "source": [
    "### URL"
   ]
  },
  {
   "cell_type": "markdown",
   "id": "optical-robert",
   "metadata": {},
   "source": [
    "Contains information of which resource whe are asking the SERVER for."
   ]
  },
  {
   "cell_type": "markdown",
   "id": "marine-audience",
   "metadata": {},
   "source": [
    "Examples:\n",
    "\n",
    "- https://www.google.com/webhp?authuser=2\n",
    "- https://www.towardsdatascience.com"
   ]
  },
  {
   "cell_type": "markdown",
   "id": "chief-weight",
   "metadata": {},
   "source": [
    "- https://www.ironhack.com/\n",
    "- Protocol: https (https == http but https is encrypted)\n",
    "- Domain Name --> IRONHACK\n",
    "- TLD --> .com"
   ]
  },
  {
   "cell_type": "markdown",
   "id": "apart-romantic",
   "metadata": {},
   "source": [
    "### HTTP vs HTTPS\n",
    "\n",
    "- HTTP transfers data in plain text while HTTPS transfers data in cipher text (encrypt text). \n",
    "- HTTP is fast as compared to HTTPS because HTTPS consumes computation power to encrypt the communication channel."
   ]
  },
  {
   "cell_type": "markdown",
   "id": "elegant-british",
   "metadata": {},
   "source": [
    "### Requests"
   ]
  },
  {
   "cell_type": "markdown",
   "id": "based-paintball",
   "metadata": {},
   "source": [
    "**Requests** are questions we formulate to a SERVER in order to receive a piece of information (a **response**)."
   ]
  },
  {
   "cell_type": "markdown",
   "id": "presidential-apparatus",
   "metadata": {},
   "source": [
    "Type of requests:\n",
    " * GET: read information from resource, and not to modify it in any way. Webpage access from browser **gets** info.\n",
    " * POST\n",
    " * PUT\n",
    " * DELETE\n",
    " * PATCH\n",
    " * ..."
   ]
  },
  {
   "cell_type": "markdown",
   "id": "painted-retrieval",
   "metadata": {},
   "source": [
    "### Response"
   ]
  },
  {
   "cell_type": "markdown",
   "id": "unlimited-representative",
   "metadata": {},
   "source": [
    "Responses can be of several types:\n",
    " * a JSON (similar to Python dictionary)\n",
    " * an image\n",
    " * a video\n",
    " * a HTML page\n",
    " * a PDF file\n",
    " * ..."
   ]
  },
  {
   "cell_type": "markdown",
   "id": "casual-contributor",
   "metadata": {},
   "source": [
    "Responses follow the following structure. They have:\n",
    " * a HEADER section: contains metadata about the behaviour of the server\n",
    " * a BODY: contains the desired piece of information\n",
    "One important part of the HEADER is the **status code**. This code is a numerical code indicating the result of the server. There are different status codes depending if the server succedded to perform the REQUEST or didn't manage to do anything at all. This are some groups of status codes:\n",
    "\n",
    "- **2xx** successful__: the request was successfully received, understood and accepted\n",
    "- **3xx** redirection__: further action needs to be taken in order to complete the request\n",
    "- **4xx** client error__: the request contains bad syntax or cannot be fulfilled\n",
    "- **5xx** server error__: the server failed to fulfill an apparently valid request\n",
    "\n",
    "Complete list:    \n",
    "https://en.wikipedia.org/wiki/List_of_HTTP_status_codes    \n",
    "More funny:    \n",
    "https://http.cat/   "
   ]
  },
  {
   "cell_type": "markdown",
   "id": "going-question",
   "metadata": {},
   "source": [
    "## API"
   ]
  },
  {
   "cell_type": "markdown",
   "id": "retained-success",
   "metadata": {},
   "source": [
    "**A**pplication **P**rogramming **I**nterface\n",
    "* Cloud era, softwares need to communicate through internet.\n",
    "* Inside a project, backend might want to share with frontend information without ddbb access.\n",
    "* It is a contract between software products. \n",
    "* It is an instruction manual to use some software.\n",
    "* Client calls server through an API, server responds."
   ]
  },
  {
   "cell_type": "markdown",
   "id": "headed-quarterly",
   "metadata": {},
   "source": [
    "### RESTful APIs"
   ]
  },
  {
   "cell_type": "markdown",
   "id": "geographic-implement",
   "metadata": {},
   "source": [
    "Most interactive APIs follow REST logic, a series of rules   \n",
    "- [Guiding Principles of REST](https://restfulapi.net/)   \n",
    "- [What is a RESTful API (Video)](https://www.youtube.com/watch?v=JD6VNRdGl98&ab_channel=LeonardoKuffo)   \n",
    "\n",
    "Who does what:  \n",
    "* we (client) send a request\n",
    "* they (server) send back a response, generally in JSON format      \n",
    "\n",
    "APIs always have to offer documentation of their different services: **endpoints**  \n",
    "Each endpoint is a different URL"
   ]
  },
  {
   "cell_type": "markdown",
   "id": "respiratory-settle",
   "metadata": {},
   "source": [
    "## Let's go"
   ]
  },
  {
   "cell_type": "markdown",
   "id": "empty-prediction",
   "metadata": {},
   "source": [
    "### Requests in Python"
   ]
  },
  {
   "cell_type": "code",
   "execution_count": 1,
   "id": "expected-yemen",
   "metadata": {},
   "outputs": [],
   "source": [
    "# Remember, you must read the doc  --> Request, HTTP for Humans."
   ]
  },
  {
   "cell_type": "markdown",
   "id": "parallel-makeup",
   "metadata": {},
   "source": [
    "https://requests.readthedocs.io/en/master/"
   ]
  },
  {
   "cell_type": "code",
   "execution_count": 1,
   "id": "immediate-headset",
   "metadata": {},
   "outputs": [],
   "source": [
    "#!pip3 install requests"
   ]
  },
  {
   "cell_type": "code",
   "execution_count": 2,
   "id": "lesser-customs",
   "metadata": {},
   "outputs": [],
   "source": [
    "import requests"
   ]
  },
  {
   "cell_type": "markdown",
   "id": "opponent-missouri",
   "metadata": {},
   "source": [
    "### HTML response"
   ]
  },
  {
   "cell_type": "markdown",
   "id": "emotional-norway",
   "metadata": {},
   "source": [
    "I can call a url and have all the html, all the response from the server."
   ]
  },
  {
   "cell_type": "code",
   "execution_count": 3,
   "id": "active-intelligence",
   "metadata": {},
   "outputs": [],
   "source": [
    "response = requests.get(\"https://www.elpais.com\")"
   ]
  },
  {
   "cell_type": "code",
   "execution_count": 6,
   "id": "sacred-perspective",
   "metadata": {},
   "outputs": [
    {
     "name": "stdout",
     "output_type": "stream",
     "text": [
      "<Response [200]>\n"
     ]
    }
   ],
   "source": [
    "print(response)"
   ]
  },
  {
   "cell_type": "code",
   "execution_count": 4,
   "id": "varying-tissue",
   "metadata": {},
   "outputs": [
    {
     "data": {
      "text/plain": [
       "{'Content-Type': 'text/html; charset=utf-8', 'Server': 'openresty', 'x-aws-lambda-call-status': '200', 'Content-Encoding': 'gzip', 'ETag': 'W/\"105047-o0LaxRA02uJmeKNAbxMS+cvxdO8\"', 'Last-Modified': 'Mon, 22 Mar 2021 18:10:21 GMT', 'X-Origin-Cache-Key': 'clientpfGET/', 'Vary': 'Accept-Encoding', 'X-Akamai-Transformed': '9 - 0 pmb=mRUM,2', 'Cache-Control': 'private, max-age=60', 'Expires': 'Mon, 22 Mar 2021 18:14:26 GMT', 'Date': 'Mon, 22 Mar 2021 18:13:26 GMT', 'Transfer-Encoding': 'chunked', 'Connection': 'keep-alive, Transfer-Encoding', 'Set-Cookie': 'arc-geo={\"georegion\":\"200\",\"countrycode\":\"ES\",\"regioncode\":\"\",\"timezone\":\"GMT+1\",\"continent\":\"EU\"}; expires=Mon, 22-Mar-2021 18:28:26 GMT; path=/', 'Server-Timing': 'cdn-cache; desc=HIT, edge; dur=1'}"
      ]
     },
     "execution_count": 4,
     "metadata": {},
     "output_type": "execute_result"
    }
   ],
   "source": [
    "response.headers"
   ]
  },
  {
   "cell_type": "code",
   "execution_count": 5,
   "id": "verbal-argentina",
   "metadata": {},
   "outputs": [
    {
     "data": {
      "text/plain": [
       "200"
      ]
     },
     "execution_count": 5,
     "metadata": {},
     "output_type": "execute_result"
    }
   ],
   "source": [
    "response.status_code"
   ]
  },
  {
   "cell_type": "code",
   "execution_count": 8,
   "id": "realistic-converter",
   "metadata": {},
   "outputs": [],
   "source": [
    "#response.content"
   ]
  },
  {
   "cell_type": "markdown",
   "id": "northern-indian",
   "metadata": {},
   "source": [
    "### JSON response"
   ]
  },
  {
   "cell_type": "markdown",
   "id": "appointed-ready",
   "metadata": {},
   "source": [
    "JSON: Java Script Object Notation"
   ]
  },
  {
   "cell_type": "markdown",
   "id": "automotive-muslim",
   "metadata": {},
   "source": [
    "Let's get information from ISS (international space station)!"
   ]
  },
  {
   "cell_type": "markdown",
   "id": "biblical-consultation",
   "metadata": {},
   "source": [
    "[ISS API documentation](https://wheretheiss.at/w/developer)"
   ]
  },
  {
   "cell_type": "code",
   "execution_count": 9,
   "id": "civic-banana",
   "metadata": {},
   "outputs": [],
   "source": [
    "response = requests.get(\"https://api.wheretheiss.at/v1/satellites\")"
   ]
  },
  {
   "cell_type": "code",
   "execution_count": 10,
   "id": "mature-principal",
   "metadata": {},
   "outputs": [
    {
     "data": {
      "text/plain": [
       "{'Date': 'Mon, 22 Mar 2021 18:43:23 GMT', 'Server': 'Apache/2.2.22 (Ubuntu)', 'X-Powered-By': 'PHP/5.3.10-1ubuntu3.26', 'X-Rate-Limit-Limit': '350', 'X-Rate-Limit-Remaining': '349', 'X-Rate-Limit-Interval': '5 minutes', 'Access-Control-Allow-Origin': '*', 'X-Apache-Time': 'D=16383', 'Cache-Control': 'max-age=0, no-cache', 'Content-Length': '27', 'Keep-Alive': 'timeout=15, max=100', 'Connection': 'Keep-Alive', 'Content-Type': 'application/json'}"
      ]
     },
     "execution_count": 10,
     "metadata": {},
     "output_type": "execute_result"
    }
   ],
   "source": [
    "response.headers"
   ]
  },
  {
   "cell_type": "markdown",
   "id": "cognitive-christopher",
   "metadata": {},
   "source": [
    "If response Content-Type is json, we can access it with `.json()`"
   ]
  },
  {
   "cell_type": "code",
   "execution_count": 11,
   "id": "raised-lightweight",
   "metadata": {},
   "outputs": [],
   "source": [
    "# https://docs.python.org/3/library/json.html\n",
    "import json"
   ]
  },
  {
   "cell_type": "code",
   "execution_count": 12,
   "id": "interesting-colony",
   "metadata": {},
   "outputs": [
    {
     "name": "stdout",
     "output_type": "stream",
     "text": [
      "[{'name': 'iss', 'id': 25544}]\n"
     ]
    }
   ],
   "source": [
    "info = response.json()\n",
    "print(info)"
   ]
  },
  {
   "cell_type": "code",
   "execution_count": 14,
   "id": "cognitive-coaching",
   "metadata": {},
   "outputs": [
    {
     "data": {
      "text/plain": [
       "1"
      ]
     },
     "execution_count": 14,
     "metadata": {},
     "output_type": "execute_result"
    }
   ],
   "source": [
    "len(info)"
   ]
  },
  {
   "cell_type": "code",
   "execution_count": 16,
   "id": "veterinary-terry",
   "metadata": {},
   "outputs": [
    {
     "data": {
      "text/plain": [
       "25544"
      ]
     },
     "execution_count": 16,
     "metadata": {},
     "output_type": "execute_result"
    }
   ],
   "source": [
    "info[0][\"id\"]"
   ]
  },
  {
   "cell_type": "code",
   "execution_count": 51,
   "id": "egyptian-completion",
   "metadata": {},
   "outputs": [],
   "source": [
    "response = requests.get(\"https://api.wheretheiss.at/v1/satellites/25544\")"
   ]
  },
  {
   "cell_type": "code",
   "execution_count": 54,
   "id": "legislative-acoustic",
   "metadata": {},
   "outputs": [
    {
     "data": {
      "text/plain": [
       "<Response [200]>"
      ]
     },
     "execution_count": 54,
     "metadata": {},
     "output_type": "execute_result"
    }
   ],
   "source": [
    "response"
   ]
  },
  {
   "cell_type": "code",
   "execution_count": 55,
   "id": "liable-flashing",
   "metadata": {},
   "outputs": [
    {
     "data": {
      "text/plain": [
       "{'Date': 'Mon, 22 Mar 2021 19:04:07 GMT', 'Server': 'Apache/2.2.22 (Ubuntu)', 'X-Powered-By': 'PHP/5.3.10-1ubuntu3.26', 'X-Rate-Limit-Limit': '350', 'X-Rate-Limit-Remaining': '349', 'X-Rate-Limit-Interval': '5 minutes', 'Access-Control-Allow-Origin': '*', 'X-Apache-Time': 'D=26737', 'Cache-Control': 'max-age=0, no-cache', 'Content-Length': '313', 'Keep-Alive': 'timeout=15, max=100', 'Connection': 'Keep-Alive', 'Content-Type': 'application/json'}"
      ]
     },
     "execution_count": 55,
     "metadata": {},
     "output_type": "execute_result"
    }
   ],
   "source": [
    "response.headers"
   ]
  },
  {
   "cell_type": "code",
   "execution_count": 18,
   "id": "small-webcam",
   "metadata": {},
   "outputs": [
    {
     "data": {
      "text/plain": [
       "{'name': 'iss',\n",
       " 'id': 25544,\n",
       " 'latitude': 42.768435746879,\n",
       " 'longitude': 81.13396871189,\n",
       " 'altitude': 421.76663503457,\n",
       " 'velocity': 27593.728544062,\n",
       " 'visibility': 'eclipsed',\n",
       " 'footprint': 4516.4404081924,\n",
       " 'timestamp': 1616438819,\n",
       " 'daynum': 2459296.2826273,\n",
       " 'solar_lat': 0.94297852380488,\n",
       " 'solar_lon': 259.93816464258,\n",
       " 'units': 'kilometers'}"
      ]
     },
     "execution_count": 18,
     "metadata": {},
     "output_type": "execute_result"
    }
   ],
   "source": [
    "response.json()"
   ]
  },
  {
   "cell_type": "code",
   "execution_count": 66,
   "id": "photographic-romance",
   "metadata": {},
   "outputs": [],
   "source": [
    "url = \"https://api.wheretheiss.at/v1/satellites/\""
   ]
  },
  {
   "cell_type": "code",
   "execution_count": 67,
   "id": "aboriginal-finding",
   "metadata": {},
   "outputs": [
    {
     "name": "stdout",
     "output_type": "stream",
     "text": [
      "25544\n"
     ]
    }
   ],
   "source": [
    "id_ = str(info[0][\"id\"])\n",
    "print(id_)"
   ]
  },
  {
   "cell_type": "code",
   "execution_count": 56,
   "id": "differential-concern",
   "metadata": {},
   "outputs": [],
   "source": [
    "response = requests.get(url+id_).json()"
   ]
  },
  {
   "cell_type": "code",
   "execution_count": 57,
   "id": "tight-pantyhose",
   "metadata": {},
   "outputs": [
    {
     "data": {
      "text/plain": [
       "{'name': 'iss',\n",
       " 'id': 25544,\n",
       " 'latitude': -8.711800704974,\n",
       " 'longitude': 130.13550471756,\n",
       " 'altitude': 420.43266641473,\n",
       " 'velocity': 27578.438108338,\n",
       " 'visibility': 'eclipsed',\n",
       " 'footprint': 4509.6640183301,\n",
       " 'timestamp': 1616439913,\n",
       " 'daynum': 2459296.2952894,\n",
       " 'solar_lat': 0.94797242338161,\n",
       " 'solar_lon': 255.37888214274,\n",
       " 'units': 'kilometers'}"
      ]
     },
     "execution_count": 57,
     "metadata": {},
     "output_type": "execute_result"
    }
   ],
   "source": [
    "response"
   ]
  },
  {
   "cell_type": "code",
   "execution_count": 58,
   "id": "increasing-portfolio",
   "metadata": {},
   "outputs": [],
   "source": [
    "#Vamos a hacer una request mal para ver el código de error"
   ]
  },
  {
   "cell_type": "code",
   "execution_count": 65,
   "id": "administrative-length",
   "metadata": {},
   "outputs": [],
   "source": [
    "url_mal = \"https://api.wheretheiss.at/v1/satellites/36\""
   ]
  },
  {
   "cell_type": "code",
   "execution_count": 63,
   "id": "greenhouse-chapel",
   "metadata": {},
   "outputs": [],
   "source": [
    "response_mal = requests.get(url).json()"
   ]
  },
  {
   "cell_type": "code",
   "execution_count": 64,
   "id": "meaningful-tract",
   "metadata": {},
   "outputs": [
    {
     "name": "stdout",
     "output_type": "stream",
     "text": [
      "{'error': 'satellite not found', 'status': 404}\n"
     ]
    }
   ],
   "source": [
    "print(response_mal)"
   ]
  },
  {
   "cell_type": "markdown",
   "id": "anticipated-native",
   "metadata": {},
   "source": [
    "### Managing data in pandas"
   ]
  },
  {
   "cell_type": "code",
   "execution_count": 46,
   "id": "small-movie",
   "metadata": {},
   "outputs": [],
   "source": [
    "# Vamos a convertir a dataframe los datos que nos devuelve una API"
   ]
  },
  {
   "cell_type": "code",
   "execution_count": 29,
   "id": "ongoing-georgia",
   "metadata": {},
   "outputs": [],
   "source": [
    "import pandas as pd"
   ]
  },
  {
   "cell_type": "code",
   "execution_count": 30,
   "id": "higher-county",
   "metadata": {},
   "outputs": [],
   "source": [
    "data = pd.DataFrame(response)"
   ]
  },
  {
   "cell_type": "code",
   "execution_count": 47,
   "id": "urban-composite",
   "metadata": {},
   "outputs": [],
   "source": [
    "# Primero lo hemos hecho a lo loco... y evidentemente, no es el camino"
   ]
  },
  {
   "cell_type": "code",
   "execution_count": 32,
   "id": "guilty-ceremony",
   "metadata": {},
   "outputs": [],
   "source": [
    "# Este no parece ser el modo más óptimo de hacerlo jejeje :) "
   ]
  },
  {
   "cell_type": "code",
   "execution_count": 31,
   "id": "covered-travel",
   "metadata": {},
   "outputs": [
    {
     "data": {
      "text/html": [
       "<div>\n",
       "<style scoped>\n",
       "    .dataframe tbody tr th:only-of-type {\n",
       "        vertical-align: middle;\n",
       "    }\n",
       "\n",
       "    .dataframe tbody tr th {\n",
       "        vertical-align: top;\n",
       "    }\n",
       "\n",
       "    .dataframe thead th {\n",
       "        text-align: right;\n",
       "    }\n",
       "</style>\n",
       "<table border=\"1\" class=\"dataframe\">\n",
       "  <thead>\n",
       "    <tr style=\"text-align: right;\">\n",
       "      <th></th>\n",
       "      <th>0</th>\n",
       "    </tr>\n",
       "  </thead>\n",
       "  <tbody>\n",
       "    <tr>\n",
       "      <th>0</th>\n",
       "      <td>b'{\"name\":\"iss\",\"id\":25544,\"latitude\":38.94800...</td>\n",
       "    </tr>\n",
       "    <tr>\n",
       "      <th>1</th>\n",
       "      <td>b'82984,\"visibility\":\"eclipsed\",\"footprint\":45...</td>\n",
       "    </tr>\n",
       "    <tr>\n",
       "      <th>2</th>\n",
       "      <td>b'216295,\"solar_lon\":259.50890860305,\"units\":\"...</td>\n",
       "    </tr>\n",
       "  </tbody>\n",
       "</table>\n",
       "</div>"
      ],
      "text/plain": [
       "                                                   0\n",
       "0  b'{\"name\":\"iss\",\"id\":25544,\"latitude\":38.94800...\n",
       "1  b'82984,\"visibility\":\"eclipsed\",\"footprint\":45...\n",
       "2  b'216295,\"solar_lon\":259.50890860305,\"units\":\"..."
      ]
     },
     "execution_count": 31,
     "metadata": {},
     "output_type": "execute_result"
    }
   ],
   "source": [
    "data.head()"
   ]
  },
  {
   "cell_type": "code",
   "execution_count": 48,
   "id": "deluxe-yorkshire",
   "metadata": {},
   "outputs": [],
   "source": [
    "# Hacemos una lista vacía y añadimos la response para tener una lista con un diccionario y que pandas lo parsee"
   ]
  },
  {
   "cell_type": "code",
   "execution_count": 38,
   "id": "statewide-surname",
   "metadata": {},
   "outputs": [],
   "source": [
    "lista = []"
   ]
  },
  {
   "cell_type": "code",
   "execution_count": 39,
   "id": "solved-mexico",
   "metadata": {},
   "outputs": [],
   "source": [
    "lista.append(response)"
   ]
  },
  {
   "cell_type": "code",
   "execution_count": 40,
   "id": "military-capitol",
   "metadata": {},
   "outputs": [
    {
     "name": "stdout",
     "output_type": "stream",
     "text": [
      "[{'name': 'iss', 'id': 25544, 'latitude': 22.473390570012, 'longitude': 106.83865109292, 'altitude': 418.0253326404, 'velocity': 27594.023844513, 'visibility': 'eclipsed', 'footprint': 4497.4035646663, 'timestamp': 1616439293, 'daynum': 2459296.2881134, 'solar_lat': 0.94514225170511, 'solar_lon': 257.96275342185, 'units': 'kilometers'}]\n"
     ]
    }
   ],
   "source": [
    "print(lista)"
   ]
  },
  {
   "cell_type": "code",
   "execution_count": 41,
   "id": "specified-drain",
   "metadata": {},
   "outputs": [],
   "source": [
    "data = pd.DataFrame(lista)"
   ]
  },
  {
   "cell_type": "code",
   "execution_count": 42,
   "id": "brief-soviet",
   "metadata": {},
   "outputs": [
    {
     "data": {
      "text/html": [
       "<div>\n",
       "<style scoped>\n",
       "    .dataframe tbody tr th:only-of-type {\n",
       "        vertical-align: middle;\n",
       "    }\n",
       "\n",
       "    .dataframe tbody tr th {\n",
       "        vertical-align: top;\n",
       "    }\n",
       "\n",
       "    .dataframe thead th {\n",
       "        text-align: right;\n",
       "    }\n",
       "</style>\n",
       "<table border=\"1\" class=\"dataframe\">\n",
       "  <thead>\n",
       "    <tr style=\"text-align: right;\">\n",
       "      <th></th>\n",
       "      <th>name</th>\n",
       "      <th>id</th>\n",
       "      <th>latitude</th>\n",
       "      <th>longitude</th>\n",
       "      <th>altitude</th>\n",
       "      <th>velocity</th>\n",
       "      <th>visibility</th>\n",
       "      <th>footprint</th>\n",
       "      <th>timestamp</th>\n",
       "      <th>daynum</th>\n",
       "      <th>solar_lat</th>\n",
       "      <th>solar_lon</th>\n",
       "      <th>units</th>\n",
       "    </tr>\n",
       "  </thead>\n",
       "  <tbody>\n",
       "    <tr>\n",
       "      <th>0</th>\n",
       "      <td>iss</td>\n",
       "      <td>25544</td>\n",
       "      <td>22.473391</td>\n",
       "      <td>106.838651</td>\n",
       "      <td>418.025333</td>\n",
       "      <td>27594.023845</td>\n",
       "      <td>eclipsed</td>\n",
       "      <td>4497.403565</td>\n",
       "      <td>1616439293</td>\n",
       "      <td>2.459296e+06</td>\n",
       "      <td>0.945142</td>\n",
       "      <td>257.962753</td>\n",
       "      <td>kilometers</td>\n",
       "    </tr>\n",
       "  </tbody>\n",
       "</table>\n",
       "</div>"
      ],
      "text/plain": [
       "  name     id   latitude   longitude    altitude      velocity visibility  \\\n",
       "0  iss  25544  22.473391  106.838651  418.025333  27594.023845   eclipsed   \n",
       "\n",
       "     footprint   timestamp        daynum  solar_lat   solar_lon       units  \n",
       "0  4497.403565  1616439293  2.459296e+06   0.945142  257.962753  kilometers  "
      ]
     },
     "execution_count": 42,
     "metadata": {},
     "output_type": "execute_result"
    }
   ],
   "source": [
    "data.head()"
   ]
  },
  {
   "cell_type": "code",
   "execution_count": 43,
   "id": "surprised-magic",
   "metadata": {},
   "outputs": [],
   "source": [
    "# Vale, venga, funciona pero.... no parece muy limpio ¿no?"
   ]
  },
  {
   "cell_type": "code",
   "execution_count": 49,
   "id": "aquatic-healthcare",
   "metadata": {},
   "outputs": [],
   "source": [
    "# Pandas hace esto por nosotras con json normalize🐼"
   ]
  },
  {
   "cell_type": "code",
   "execution_count": 45,
   "id": "artistic-bristol",
   "metadata": {},
   "outputs": [
    {
     "data": {
      "text/html": [
       "<div>\n",
       "<style scoped>\n",
       "    .dataframe tbody tr th:only-of-type {\n",
       "        vertical-align: middle;\n",
       "    }\n",
       "\n",
       "    .dataframe tbody tr th {\n",
       "        vertical-align: top;\n",
       "    }\n",
       "\n",
       "    .dataframe thead th {\n",
       "        text-align: right;\n",
       "    }\n",
       "</style>\n",
       "<table border=\"1\" class=\"dataframe\">\n",
       "  <thead>\n",
       "    <tr style=\"text-align: right;\">\n",
       "      <th></th>\n",
       "      <th>name</th>\n",
       "      <th>id</th>\n",
       "      <th>latitude</th>\n",
       "      <th>longitude</th>\n",
       "      <th>altitude</th>\n",
       "      <th>velocity</th>\n",
       "      <th>visibility</th>\n",
       "      <th>footprint</th>\n",
       "      <th>timestamp</th>\n",
       "      <th>daynum</th>\n",
       "      <th>solar_lat</th>\n",
       "      <th>solar_lon</th>\n",
       "      <th>units</th>\n",
       "    </tr>\n",
       "  </thead>\n",
       "  <tbody>\n",
       "    <tr>\n",
       "      <th>0</th>\n",
       "      <td>iss</td>\n",
       "      <td>25544</td>\n",
       "      <td>22.473391</td>\n",
       "      <td>106.838651</td>\n",
       "      <td>418.025333</td>\n",
       "      <td>27594.023845</td>\n",
       "      <td>eclipsed</td>\n",
       "      <td>4497.403565</td>\n",
       "      <td>1616439293</td>\n",
       "      <td>2.459296e+06</td>\n",
       "      <td>0.945142</td>\n",
       "      <td>257.962753</td>\n",
       "      <td>kilometers</td>\n",
       "    </tr>\n",
       "  </tbody>\n",
       "</table>\n",
       "</div>"
      ],
      "text/plain": [
       "  name     id   latitude   longitude    altitude      velocity visibility  \\\n",
       "0  iss  25544  22.473391  106.838651  418.025333  27594.023845   eclipsed   \n",
       "\n",
       "     footprint   timestamp        daynum  solar_lat   solar_lon       units  \n",
       "0  4497.403565  1616439293  2.459296e+06   0.945142  257.962753  kilometers  "
      ]
     },
     "execution_count": 45,
     "metadata": {},
     "output_type": "execute_result"
    }
   ],
   "source": [
    "from pandas import json_normalize\n",
    "json_normalize(response)"
   ]
  },
  {
   "cell_type": "code",
   "execution_count": 69,
   "id": "occupational-dublin",
   "metadata": {},
   "outputs": [],
   "source": [
    "#Vamos a hacer varias requests seguidas para obtener más información, ponemos el time sleep para que la ISS se mueva"
   ]
  },
  {
   "cell_type": "code",
   "execution_count": 68,
   "id": "beneficial-stomach",
   "metadata": {},
   "outputs": [
    {
     "name": "stdout",
     "output_type": "stream",
     "text": [
      "0\n",
      "1\n",
      "2\n",
      "3\n",
      "4\n",
      "5\n",
      "6\n",
      "7\n",
      "8\n",
      "9\n"
     ]
    }
   ],
   "source": [
    "import time\n",
    "positions = []\n",
    "\n",
    "for i in range(10):\n",
    "    print(i)\n",
    "    response = requests.get(url+id_).json()\n",
    "    positions.append(response)\n",
    "    time.sleep(0.5)\n"
   ]
  },
  {
   "cell_type": "code",
   "execution_count": 72,
   "id": "sound-portable",
   "metadata": {},
   "outputs": [
    {
     "data": {
      "text/html": [
       "<div>\n",
       "<style scoped>\n",
       "    .dataframe tbody tr th:only-of-type {\n",
       "        vertical-align: middle;\n",
       "    }\n",
       "\n",
       "    .dataframe tbody tr th {\n",
       "        vertical-align: top;\n",
       "    }\n",
       "\n",
       "    .dataframe thead th {\n",
       "        text-align: right;\n",
       "    }\n",
       "</style>\n",
       "<table border=\"1\" class=\"dataframe\">\n",
       "  <thead>\n",
       "    <tr style=\"text-align: right;\">\n",
       "      <th></th>\n",
       "      <th>name</th>\n",
       "      <th>id</th>\n",
       "      <th>latitude</th>\n",
       "      <th>longitude</th>\n",
       "      <th>altitude</th>\n",
       "      <th>velocity</th>\n",
       "      <th>visibility</th>\n",
       "      <th>footprint</th>\n",
       "      <th>timestamp</th>\n",
       "      <th>daynum</th>\n",
       "      <th>solar_lat</th>\n",
       "      <th>solar_lon</th>\n",
       "      <th>units</th>\n",
       "    </tr>\n",
       "  </thead>\n",
       "  <tbody>\n",
       "    <tr>\n",
       "      <th>0</th>\n",
       "      <td>iss</td>\n",
       "      <td>25544</td>\n",
       "      <td>-27.443279</td>\n",
       "      <td>145.708061</td>\n",
       "      <td>427.012508</td>\n",
       "      <td>27560.687804</td>\n",
       "      <td>daylight</td>\n",
       "      <td>4542.969263</td>\n",
       "      <td>1616440296</td>\n",
       "      <td>2.459296e+06</td>\n",
       "      <td>0.949721</td>\n",
       "      <td>253.782717</td>\n",
       "      <td>kilometers</td>\n",
       "    </tr>\n",
       "    <tr>\n",
       "      <th>1</th>\n",
       "      <td>iss</td>\n",
       "      <td>25544</td>\n",
       "      <td>-27.489613</td>\n",
       "      <td>145.754580</td>\n",
       "      <td>427.032353</td>\n",
       "      <td>27560.638575</td>\n",
       "      <td>daylight</td>\n",
       "      <td>4543.069259</td>\n",
       "      <td>1616440297</td>\n",
       "      <td>2.459296e+06</td>\n",
       "      <td>0.949725</td>\n",
       "      <td>253.778549</td>\n",
       "      <td>kilometers</td>\n",
       "    </tr>\n",
       "    <tr>\n",
       "      <th>2</th>\n",
       "      <td>iss</td>\n",
       "      <td>25544</td>\n",
       "      <td>-27.535928</td>\n",
       "      <td>145.801141</td>\n",
       "      <td>427.052203</td>\n",
       "      <td>27560.589346</td>\n",
       "      <td>daylight</td>\n",
       "      <td>4543.169281</td>\n",
       "      <td>1616440298</td>\n",
       "      <td>2.459296e+06</td>\n",
       "      <td>0.949730</td>\n",
       "      <td>253.774382</td>\n",
       "      <td>kilometers</td>\n",
       "    </tr>\n",
       "    <tr>\n",
       "      <th>3</th>\n",
       "      <td>iss</td>\n",
       "      <td>25544</td>\n",
       "      <td>-27.582226</td>\n",
       "      <td>145.847747</td>\n",
       "      <td>427.072059</td>\n",
       "      <td>27560.540116</td>\n",
       "      <td>daylight</td>\n",
       "      <td>4543.269332</td>\n",
       "      <td>1616440299</td>\n",
       "      <td>2.459296e+06</td>\n",
       "      <td>0.949734</td>\n",
       "      <td>253.770214</td>\n",
       "      <td>kilometers</td>\n",
       "    </tr>\n",
       "    <tr>\n",
       "      <th>4</th>\n",
       "      <td>iss</td>\n",
       "      <td>25544</td>\n",
       "      <td>-27.674761</td>\n",
       "      <td>145.941081</td>\n",
       "      <td>427.111786</td>\n",
       "      <td>27560.441662</td>\n",
       "      <td>daylight</td>\n",
       "      <td>4543.469498</td>\n",
       "      <td>1616440301</td>\n",
       "      <td>2.459296e+06</td>\n",
       "      <td>0.949744</td>\n",
       "      <td>253.761879</td>\n",
       "      <td>kilometers</td>\n",
       "    </tr>\n",
       "  </tbody>\n",
       "</table>\n",
       "</div>"
      ],
      "text/plain": [
       "  name     id   latitude   longitude    altitude      velocity visibility  \\\n",
       "0  iss  25544 -27.443279  145.708061  427.012508  27560.687804   daylight   \n",
       "1  iss  25544 -27.489613  145.754580  427.032353  27560.638575   daylight   \n",
       "2  iss  25544 -27.535928  145.801141  427.052203  27560.589346   daylight   \n",
       "3  iss  25544 -27.582226  145.847747  427.072059  27560.540116   daylight   \n",
       "4  iss  25544 -27.674761  145.941081  427.111786  27560.441662   daylight   \n",
       "\n",
       "     footprint   timestamp        daynum  solar_lat   solar_lon       units  \n",
       "0  4542.969263  1616440296  2.459296e+06   0.949721  253.782717  kilometers  \n",
       "1  4543.069259  1616440297  2.459296e+06   0.949725  253.778549  kilometers  \n",
       "2  4543.169281  1616440298  2.459296e+06   0.949730  253.774382  kilometers  \n",
       "3  4543.269332  1616440299  2.459296e+06   0.949734  253.770214  kilometers  \n",
       "4  4543.469498  1616440301  2.459296e+06   0.949744  253.761879  kilometers  "
      ]
     },
     "execution_count": 72,
     "metadata": {},
     "output_type": "execute_result"
    }
   ],
   "source": [
    "info = pd.DataFrame(positions)\n",
    "info.head()"
   ]
  },
  {
   "cell_type": "markdown",
   "id": "organizational-lightning",
   "metadata": {},
   "source": [
    "### Parameters"
   ]
  },
  {
   "cell_type": "markdown",
   "id": "foreign-community",
   "metadata": {},
   "source": [
    "Remember API`s DOC    \n",
    "https://wheretheiss.at/w/developer"
   ]
  },
  {
   "cell_type": "markdown",
   "id": "round-miracle",
   "metadata": {},
   "source": [
    "![captura](images/parameters.png)"
   ]
  },
  {
   "cell_type": "markdown",
   "id": "thrown-might",
   "metadata": {},
   "source": [
    "We sometimes want to pass some parameters to an API endpoint.   \n",
    "Similar to python functions receiving parameters for a different behavior"
   ]
  },
  {
   "cell_type": "markdown",
   "id": "private-recall",
   "metadata": {},
   "source": [
    "Parameters are passed with `?param1=value1&param2=value2...` at the end or the URL"
   ]
  },
  {
   "cell_type": "code",
   "execution_count": 74,
   "id": "vital-grace",
   "metadata": {},
   "outputs": [],
   "source": [
    "url_params = \"https://api.wheretheiss.at/v1/satellites/25544?units=miles\""
   ]
  },
  {
   "cell_type": "code",
   "execution_count": 75,
   "id": "ceramic-butter",
   "metadata": {},
   "outputs": [],
   "source": [
    "response_params = requests.get(url_params).json()"
   ]
  },
  {
   "cell_type": "code",
   "execution_count": 76,
   "id": "desperate-slave",
   "metadata": {},
   "outputs": [
    {
     "data": {
      "text/plain": [
       "{'name': 'iss',\n",
       " 'id': 25544,\n",
       " 'latitude': -41.058181863329,\n",
       " 'longitude': -107.44036863798,\n",
       " 'altitude': 270.62921844258,\n",
       " 'velocity': 17110.374579977,\n",
       " 'visibility': 'daylight',\n",
       " 'footprint': 2849.4036585126,\n",
       " 'timestamp': 1616441655,\n",
       " 'daynum': 2459296.3154514,\n",
       " 'solar_lat': 0.95592416483332,\n",
       " 'solar_lon': 248.11903760796,\n",
       " 'units': 'miles'}"
      ]
     },
     "execution_count": 76,
     "metadata": {},
     "output_type": "execute_result"
    }
   ],
   "source": [
    "response_params"
   ]
  },
  {
   "cell_type": "markdown",
   "id": "furnished-sailing",
   "metadata": {},
   "source": [
    "`requests` let us pass parameters as a dictionary:"
   ]
  },
  {
   "cell_type": "code",
   "execution_count": 79,
   "id": "simple-january",
   "metadata": {},
   "outputs": [],
   "source": [
    "url_base= \"https://api.wheretheiss.at/v1/satellites/25544\""
   ]
  },
  {
   "cell_type": "code",
   "execution_count": 81,
   "id": "eligible-elder",
   "metadata": {},
   "outputs": [],
   "source": [
    "parameters = {\"units\" : \"miles\"}"
   ]
  },
  {
   "cell_type": "code",
   "execution_count": 87,
   "id": "allied-uncertainty",
   "metadata": {},
   "outputs": [],
   "source": [
    "response_params_2 = requests.get(url = url_base, params = parameters).json()"
   ]
  },
  {
   "cell_type": "code",
   "execution_count": 86,
   "id": "stuck-beauty",
   "metadata": {},
   "outputs": [
    {
     "data": {
      "text/plain": [
       "{'name': 'iss',\n",
       " 'id': 25544,\n",
       " 'latitude': -23.905433267212,\n",
       " 'longitude': -86.267903349035,\n",
       " 'altitude': 266.5840737204,\n",
       " 'velocity': 17118.932812139,\n",
       " 'visibility': 'daylight',\n",
       " 'footprint': 2829.1640583633,\n",
       " 'timestamp': 1616442053,\n",
       " 'daynum': 2459296.3200579,\n",
       " 'solar_lat': 0.95774089683131,\n",
       " 'solar_lon': 246.46035889827,\n",
       " 'units': 'miles'}"
      ]
     },
     "execution_count": 86,
     "metadata": {},
     "output_type": "execute_result"
    }
   ],
   "source": [
    "response_params_2"
   ]
  },
  {
   "cell_type": "markdown",
   "id": "broadband-northwest",
   "metadata": {},
   "source": [
    "## Summary   \n",
    "Now it is your turn: What have we learnt?\n",
    "- Las APIs son camareros de datos (sirven datos)\n",
    "- DNS nos facilita la request porque interpretan las direcciones IP en nombres más amigables (www.google.com)\n",
    "- Protocolo HTTP (normas para la comunicación entre servidor y cliente) \n",
    "- HTML lenguaje de programación para páginas web, que nos devuelve el cliente cuando hacemos una request a una web\n",
    "- Códigos de respuesta de un servidor (con gatitos es más fácil acordarnos)\n",
    "- APIs nos permiten comunicar dos programas que están escritos en diferentes códigos y no se entienden entre ellos\n",
    "- GET (módulo requests)\n",
    "- Con el GET traemos cosas \n",
    "- Response te muestra la información en dos partes: Headers (metadata) Body (cuerpo de la respuesta)"
   ]
  },
  {
   "cell_type": "markdown",
   "id": "living-allocation",
   "metadata": {},
   "source": [
    "## Try Yourself!"
   ]
  },
  {
   "cell_type": "markdown",
   "id": "opposite-factory",
   "metadata": {},
   "source": [
    "- https://official-joke-api.appspot.com/   \n",
    "- https://jokeapi.dev/\n",
    "- https://github.com/thenamesweretakenalready/Sv443s-JokeAPI-Python-Wrapper#readme"
   ]
  },
  {
   "cell_type": "code",
   "execution_count": 41,
   "id": "iraqi-sailing",
   "metadata": {},
   "outputs": [],
   "source": [
    "# Query this API, you can do it with or without params, you choose! "
   ]
  },
  {
   "cell_type": "code",
   "execution_count": 54,
   "id": "strategic-communications",
   "metadata": {},
   "outputs": [],
   "source": [
    "url_random_joke = \"https://official-joke-api.appspot.com/random_joke\""
   ]
  },
  {
   "cell_type": "code",
   "execution_count": 92,
   "id": "fancy-printer",
   "metadata": {},
   "outputs": [
    {
     "data": {
      "text/plain": [
       "{'id': 23,\n",
       " 'type': 'programming',\n",
       " 'setup': 'Why do programmers always mix up Halloween and Christmas?',\n",
       " 'punchline': 'Because Oct 31 == Dec 25'}"
      ]
     },
     "execution_count": 92,
     "metadata": {},
     "output_type": "execute_result"
    }
   ],
   "source": [
    "response_joke = requests.get(url_random_joke).json()\n",
    "response_joke"
   ]
  },
  {
   "cell_type": "code",
   "execution_count": 58,
   "id": "formal-belle",
   "metadata": {},
   "outputs": [],
   "source": [
    "url = \"https://v2.jokeapi.dev/joke/Any?blacklistFlags=nsfw\""
   ]
  },
  {
   "cell_type": "code",
   "execution_count": 59,
   "id": "entertaining-equipment",
   "metadata": {},
   "outputs": [
    {
     "data": {
      "text/plain": [
       "{'error': False,\n",
       " 'category': 'Pun',\n",
       " 'type': 'twopart',\n",
       " 'setup': 'Thank you student loans for getting me through college.',\n",
       " 'delivery': \"I don't think I'll ever be able to repay you.\",\n",
       " 'flags': {'nsfw': False,\n",
       "  'religious': False,\n",
       "  'political': False,\n",
       "  'racist': False,\n",
       "  'sexist': False,\n",
       "  'explicit': False},\n",
       " 'id': 59,\n",
       " 'safe': True,\n",
       " 'lang': 'en'}"
      ]
     },
     "execution_count": 59,
     "metadata": {},
     "output_type": "execute_result"
    }
   ],
   "source": [
    "response_params = requests.get(url).json()\n",
    "response_params"
   ]
  },
  {
   "cell_type": "markdown",
   "id": "dried-cedar",
   "metadata": {},
   "source": [
    "No nos cogía los parámetros porque esta API no está preparada para que le metamos los parámetros de esa manera\n",
    "https://github.com/thenamesweretakenalready/Sv443s-JokeAPI-Python-Wrapper"
   ]
  },
  {
   "cell_type": "markdown",
   "id": "mexican-links",
   "metadata": {},
   "source": [
    "## Headers"
   ]
  },
  {
   "cell_type": "markdown",
   "id": "manual-sperm",
   "metadata": {},
   "source": [
    "HTTP Headers are an important part of the API request and response as they represent the meta-data associated with the API request and response. Headers carry information for:\n",
    "\n",
    "* Request and Response Body\n",
    "* Request Authorization\n",
    "* Response Caching \n",
    "* Response Cookies"
   ]
  },
  {
   "cell_type": "markdown",
   "id": "sustained-respect",
   "metadata": {},
   "source": [
    "## API Keys"
   ]
  },
  {
   "cell_type": "markdown",
   "id": "educated-rotation",
   "metadata": {},
   "source": [
    "- https://github.com/settings/tokens\n",
    "- https://docs.github.com/es/rest/guides/getting-started-with-the-rest-api\n",
    "- https://pypi.org/project/python-dotenv/"
   ]
  },
  {
   "cell_type": "code",
   "execution_count": 49,
   "id": "dirty-pearl",
   "metadata": {},
   "outputs": [],
   "source": [
    "#!pip3 install python-dotenv"
   ]
  },
  {
   "cell_type": "code",
   "execution_count": 61,
   "id": "attractive-breathing",
   "metadata": {},
   "outputs": [
    {
     "data": {
      "text/plain": [
       "True"
      ]
     },
     "execution_count": 61,
     "metadata": {},
     "output_type": "execute_result"
    }
   ],
   "source": [
    "import os\n",
    "from dotenv import load_dotenv\n",
    "load_dotenv()"
   ]
  },
  {
   "cell_type": "code",
   "execution_count": 63,
   "id": "competent-national",
   "metadata": {},
   "outputs": [],
   "source": [
    "api_key = os.getenv(\"token\")"
   ]
  },
  {
   "cell_type": "code",
   "execution_count": 72,
   "id": "genuine-radiation",
   "metadata": {},
   "outputs": [],
   "source": [
    "parameters = {\"Auhorization\" : f\"token {api_key}\"}"
   ]
  },
  {
   "cell_type": "code",
   "execution_count": 73,
   "id": "female-magazine",
   "metadata": {},
   "outputs": [],
   "source": [
    "url=\"https://api.github.com/repos/agalvezcorell/streamlit_me_mola/forks\""
   ]
  },
  {
   "cell_type": "code",
   "execution_count": 74,
   "id": "committed-mauritius",
   "metadata": {},
   "outputs": [],
   "source": [
    "response = requests.get( url = url, headers = parameters).json()"
   ]
  },
  {
   "cell_type": "code",
   "execution_count": 81,
   "id": "personalized-metabolism",
   "metadata": {},
   "outputs": [
    {
     "data": {
      "text/plain": [
       "'amorenorp/streamlit_me_mola'"
      ]
     },
     "execution_count": 81,
     "metadata": {},
     "output_type": "execute_result"
    }
   ],
   "source": [
    "response[0][\"full_name\"]"
   ]
  },
  {
   "cell_type": "code",
   "execution_count": 82,
   "id": "alpine-lease",
   "metadata": {},
   "outputs": [
    {
     "data": {
      "text/plain": [
       "['amorenorp/streamlit_me_mola',\n",
       " 'antoniogarciagiron/streamlit_me_mola',\n",
       " 'AnadeLuna/streamlit_me_mola',\n",
       " 'angelanavarrog/streamlit_me_mola',\n",
       " 'JJTrivino/streamlit_me_mola',\n",
       " 'xarlomi/streamlit_me_mola',\n",
       " 'AnaAGG/streamlit_me_mola',\n",
       " 'MarioGar25/streamlit_me_mola',\n",
       " 'breogann/streamlit_me_mola',\n",
       " 'XabierArrieta/streamlit_me_mola',\n",
       " 'SergioCaler0/streamlit_me_mola',\n",
       " 'florengutierrez/streamlit_me_mola']"
      ]
     },
     "execution_count": 82,
     "metadata": {},
     "output_type": "execute_result"
    }
   ],
   "source": [
    "names = [elemento[\"full_name\"] for elemento in response]\n",
    "names"
   ]
  },
  {
   "cell_type": "code",
   "execution_count": 99,
   "id": "physical-following",
   "metadata": {},
   "outputs": [],
   "source": [
    "def requestGithub(url):\n",
    "    token = os.getenv(\"token\")\n",
    "    if not token:\n",
    "        raise ValueError (\"Necesitas un token\")\n",
    "    print(f\"Haciendo request a {url}\")\n",
    "    \n",
    "    params = {\"Auhorization\" : f\"token {api_key}\"}\n",
    "    response = requests.get( url = url , params = params).json()\n",
    "    \n",
    "    return response"
   ]
  },
  {
   "cell_type": "code",
   "execution_count": 100,
   "id": "worldwide-lexington",
   "metadata": {},
   "outputs": [],
   "source": [
    "forks = \"https://api.github.com/repos/agalvezcorell/streamlit_me_mola/forks\""
   ]
  },
  {
   "cell_type": "code",
   "execution_count": 101,
   "id": "cleared-mounting",
   "metadata": {},
   "outputs": [
    {
     "name": "stdout",
     "output_type": "stream",
     "text": [
      "Haciendo request a https://api.github.com/repos/agalvezcorell/streamlit_me_mola/forks\n"
     ]
    }
   ],
   "source": [
    "respuesta = requestGithub(forks)"
   ]
  },
  {
   "cell_type": "code",
   "execution_count": 84,
   "id": "hungry-corner",
   "metadata": {},
   "outputs": [
    {
     "data": {
      "text/plain": [
       "12"
      ]
     },
     "execution_count": 84,
     "metadata": {},
     "output_type": "execute_result"
    }
   ],
   "source": [
    "len(response)"
   ]
  },
  {
   "cell_type": "markdown",
   "id": "seeing-bahrain",
   "metadata": {},
   "source": [
    "## Summary   \n",
    "Now it is your turn: What have we learnt?\n",
    "- .env es para definir variables de entorno\n",
    "- hemos creado un token para poder usar la api de github\n",
    "- librería dotenv --> es la que me permite conectar el jupyter con el .env\n",
    "- .gitignore todo lo que escribamos en el gitignore será ignorado por git \n"
   ]
  },
  {
   "cell_type": "markdown",
   "id": "plastic-cleaner",
   "metadata": {},
   "source": [
    "## Further materials"
   ]
  },
  {
   "cell_type": "markdown",
   "id": "logical-essence",
   "metadata": {},
   "source": [
    "- [5 Simple-To-Use APIs for Beginners](https://dev.to/alanconstantino/5-simple-to-use-apis-for-beginners-2e0n)\n",
    "- [RapidAPI](https://rapidapi.com/category/Sports): access thousands of APIs!!"
   ]
  }
 ],
 "metadata": {
  "kernelspec": {
   "display_name": "Python 3 (ipykernel)",
   "language": "python",
   "name": "python3"
  },
  "language_info": {
   "codemirror_mode": {
    "name": "ipython",
    "version": 3
   },
   "file_extension": ".py",
   "mimetype": "text/x-python",
   "name": "python",
   "nbconvert_exporter": "python",
   "pygments_lexer": "ipython3",
   "version": "3.12.2"
  },
  "toc": {
   "base_numbering": 1,
   "nav_menu": {},
   "number_sections": true,
   "sideBar": true,
   "skip_h1_title": true,
   "title_cell": "Table of Contents",
   "title_sidebar": "Contents",
   "toc_cell": true,
   "toc_position": {},
   "toc_section_display": true,
   "toc_window_display": false
  }
 },
 "nbformat": 4,
 "nbformat_minor": 5
}
