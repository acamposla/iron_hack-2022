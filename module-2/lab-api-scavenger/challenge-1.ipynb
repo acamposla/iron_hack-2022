{
 "cells": [
  {
   "cell_type": "code",
   "execution_count": 12,
   "metadata": {},
   "outputs": [],
   "source": [
    "import json\n",
    "import requests"
   ]
  },
  {
   "cell_type": "markdown",
   "metadata": {},
   "source": [
    "Only if you're using your environmental variable eith the `.env` file, import/install the following modules. Otherwise it is not necessary:\n",
    "\n",
    "https://pypi.org/project/python-dotenv/"
   ]
  },
  {
   "cell_type": "code",
   "execution_count": 18,
   "metadata": {},
   "outputs": [],
   "source": [
    "import os\n",
    "from dotenv import load_dotenv"
   ]
  },
  {
   "cell_type": "code",
   "execution_count": 20,
   "metadata": {},
   "outputs": [
    {
     "data": {
      "text/plain": [
       "True"
      ]
     },
     "execution_count": 20,
     "metadata": {},
     "output_type": "execute_result"
    }
   ],
   "source": [
    "load_dotenv()"
   ]
  },
  {
   "cell_type": "markdown",
   "metadata": {},
   "source": [
    "# Challenge 1: Fork Languages\n",
    "\n",
    "You will find out how many programming languages are used among all the forks created from the main lab repo of your bootcamp. Assuming the main lab repo is ironhack-datalabs/datamad1020-rev, you will:\n",
    "\n",
    "1. Obtain the full list of forks created from the main lab repo via Github API.\n",
    "\n",
    "2. Loop the JSON response to find out the language attribute of each fork. Use an array to store the language attributes of each fork.\n",
    "\n",
    "Hint: Each language should appear only once in your array.\n",
    "\n",
    "3. Print the language array. It should be something like:\n",
    "\n",
    "[\"Python\", \"Jupyter Notebook\", \"HTML\"]\n"
   ]
  },
  {
   "cell_type": "markdown",
   "metadata": {},
   "source": [
    "**HINT:**: Create a list with every **language_url** you find in every fork "
   ]
  },
  {
   "cell_type": "markdown",
   "metadata": {},
   "source": [
    "⚠️ **Remember to limit your output before submission**."
   ]
  },
  {
   "cell_type": "code",
   "execution_count": 21,
   "metadata": {},
   "outputs": [],
   "source": [
    "token = os.getenv(\"token\")"
   ]
  },
  {
   "cell_type": "code",
   "execution_count": 23,
   "metadata": {},
   "outputs": [],
   "source": [
    "url = \"https://api.github.com/repos/\""
   ]
  },
  {
   "cell_type": "code",
   "execution_count": 24,
   "metadata": {},
   "outputs": [],
   "source": [
    "endpoint = \"ironhack-datalabs/datamad1020-rev/forks\""
   ]
  },
  {
   "cell_type": "code",
   "execution_count": 27,
   "metadata": {},
   "outputs": [],
   "source": [
    "def requestGithub(url):\n",
    "    api_key = os.getenv(\"token\")\n",
    "    if not api_key:\n",
    "        raise ValueError (\"Necesitas un TOKEEEEN \")\n",
    "    print (f\"Estoy haciendo request a {url}\")\n",
    "    parametros = {\"Authorization\": f\"{api_key}\"}\n",
    "    response = requests.get(url = url, headers = parametros).json()\n",
    "    print(\"tamos redii\")\n",
    "    return response"
   ]
  },
  {
   "cell_type": "code",
   "execution_count": 28,
   "metadata": {},
   "outputs": [
    {
     "name": "stdout",
     "output_type": "stream",
     "text": [
      "Estoy haciendo request a https://api.github.com/repos/ironhack-datalabs/datamad1020-rev/forks\n",
      "tamos redii\n"
     ]
    }
   ],
   "source": [
    "\"\"\"\n",
    "Forks es una lista de diccionarios donde cada diccionario contiene la información \n",
    "que me da la api de github cuando  hago request al endpoint de forks\n",
    "\"\"\"\n",
    "forks = requestGithub(url+endpoint)"
   ]
  },
  {
   "cell_type": "code",
   "execution_count": 41,
   "metadata": {},
   "outputs": [
    {
     "data": {
      "text/plain": [
       "list"
      ]
     },
     "execution_count": 41,
     "metadata": {},
     "output_type": "execute_result"
    }
   ],
   "source": [
    "type(forks)"
   ]
  },
  {
   "cell_type": "code",
   "execution_count": 42,
   "metadata": {},
   "outputs": [
    {
     "data": {
      "text/plain": [
       "23"
      ]
     },
     "execution_count": 42,
     "metadata": {},
     "output_type": "execute_result"
    }
   ],
   "source": [
    "len(forks)"
   ]
  },
  {
   "cell_type": "code",
   "execution_count": 48,
   "metadata": {},
   "outputs": [
    {
     "data": {
      "text/plain": [
       "'acamposla'"
      ]
     },
     "execution_count": 48,
     "metadata": {},
     "output_type": "execute_result"
    }
   ],
   "source": [
    "forks[0][\"owner\"][\"login\"]"
   ]
  },
  {
   "cell_type": "code",
   "execution_count": 58,
   "metadata": {},
   "outputs": [],
   "source": [
    "#forks[0]"
   ]
  },
  {
   "cell_type": "code",
   "execution_count": 49,
   "metadata": {},
   "outputs": [
    {
     "data": {
      "text/plain": [
       "'https://api.github.com/repos/acamposla/datamad1020-rev/languages'"
      ]
     },
     "execution_count": 49,
     "metadata": {},
     "output_type": "execute_result"
    }
   ],
   "source": [
    "forks[0][\"languages_url\"]"
   ]
  },
  {
   "cell_type": "code",
   "execution_count": 53,
   "metadata": {},
   "outputs": [
    {
     "data": {
      "text/plain": [
       "'https://api.github.com/repos/acamposla/datamad1020-rev/languages'"
      ]
     },
     "execution_count": 53,
     "metadata": {},
     "output_type": "execute_result"
    }
   ],
   "source": [
    "forks[0][\"languages_url\"]"
   ]
  },
  {
   "cell_type": "code",
   "execution_count": 45,
   "metadata": {},
   "outputs": [],
   "source": [
    "# Visualizo el primer elemento de la lista \n",
    "#forks[0]"
   ]
  },
  {
   "cell_type": "code",
   "execution_count": 33,
   "metadata": {},
   "outputs": [
    {
     "data": {
      "text/plain": [
       "['https://api.github.com/repos/acamposla/datamad1020-rev/languages',\n",
       " 'https://api.github.com/repos/PaolaKarina/datamad1020-rev/languages',\n",
       " 'https://api.github.com/repos/VictorRodriguezIronhack/datamad1020-rev/languages',\n",
       " 'https://api.github.com/repos/sonia-quintanar/datamad1020-rev/languages',\n",
       " 'https://api.github.com/repos/jperezllorente/datamad1020-rev/languages',\n",
       " 'https://api.github.com/repos/AnaMA96/datamad1020-rev/languages',\n",
       " 'https://api.github.com/repos/breogann/datamad1020-rev/languages',\n",
       " 'https://api.github.com/repos/rafadedubra/datamad1020-rev/languages',\n",
       " 'https://api.github.com/repos/Nuria-Pe/datamad1020-rev/languages',\n",
       " 'https://api.github.com/repos/SergioCaler0/datamad1020-rev/languages',\n",
       " 'https://api.github.com/repos/LucianaLescano/datamad1020-rev/languages',\n",
       " 'https://api.github.com/repos/Mario-Sainz/datamad1020-rev/languages',\n",
       " 'https://api.github.com/repos/juanmarin00/datamad1020-rev/languages',\n",
       " 'https://api.github.com/repos/JoseManuel-G/datamad1020-rev/languages',\n",
       " 'https://api.github.com/repos/jesus-perez-366/datamad1020-rev/languages',\n",
       " 'https://api.github.com/repos/sgonzalainen/datamad1020-rev/languages',\n",
       " 'https://api.github.com/repos/Pptrv/datamad1020-rev/languages',\n",
       " 'https://api.github.com/repos/Marxess/datamad1020-rev/languages',\n",
       " 'https://api.github.com/repos/patri-carrasco/datamad1020-rev/languages',\n",
       " 'https://api.github.com/repos/BlueJotas/datamad1020-rev/languages',\n",
       " 'https://api.github.com/repos/jvazquezgalvezlp/datamad1020-rev/languages',\n",
       " 'https://api.github.com/repos/leticia-sobrino/datamad1020-rev/languages',\n",
       " 'https://api.github.com/repos/JaimeCalcedo/datamad1020-rev/languages']"
      ]
     },
     "execution_count": 33,
     "metadata": {},
     "output_type": "execute_result"
    }
   ],
   "source": [
    "lista_enlaces = [elemento[\"languages_url\"] for elemento in forks]\n",
    "lista_enlaces"
   ]
  },
  {
   "cell_type": "code",
   "execution_count": 34,
   "metadata": {},
   "outputs": [
    {
     "name": "stdout",
     "output_type": "stream",
     "text": [
      "Estoy haciendo request a https://api.github.com/repos/acamposla/datamad1020-rev/languages\n",
      "tamos redii\n",
      "Estoy haciendo request a https://api.github.com/repos/PaolaKarina/datamad1020-rev/languages\n",
      "tamos redii\n",
      "Estoy haciendo request a https://api.github.com/repos/VictorRodriguezIronhack/datamad1020-rev/languages\n",
      "tamos redii\n",
      "Estoy haciendo request a https://api.github.com/repos/sonia-quintanar/datamad1020-rev/languages\n",
      "tamos redii\n",
      "Estoy haciendo request a https://api.github.com/repos/jperezllorente/datamad1020-rev/languages\n",
      "tamos redii\n",
      "Estoy haciendo request a https://api.github.com/repos/AnaMA96/datamad1020-rev/languages\n",
      "tamos redii\n",
      "Estoy haciendo request a https://api.github.com/repos/breogann/datamad1020-rev/languages\n",
      "tamos redii\n",
      "Estoy haciendo request a https://api.github.com/repos/rafadedubra/datamad1020-rev/languages\n",
      "tamos redii\n",
      "Estoy haciendo request a https://api.github.com/repos/Nuria-Pe/datamad1020-rev/languages\n",
      "tamos redii\n",
      "Estoy haciendo request a https://api.github.com/repos/SergioCaler0/datamad1020-rev/languages\n",
      "tamos redii\n",
      "Estoy haciendo request a https://api.github.com/repos/LucianaLescano/datamad1020-rev/languages\n",
      "tamos redii\n",
      "Estoy haciendo request a https://api.github.com/repos/Mario-Sainz/datamad1020-rev/languages\n",
      "tamos redii\n",
      "Estoy haciendo request a https://api.github.com/repos/juanmarin00/datamad1020-rev/languages\n",
      "tamos redii\n",
      "Estoy haciendo request a https://api.github.com/repos/JoseManuel-G/datamad1020-rev/languages\n",
      "tamos redii\n",
      "Estoy haciendo request a https://api.github.com/repos/jesus-perez-366/datamad1020-rev/languages\n",
      "tamos redii\n",
      "Estoy haciendo request a https://api.github.com/repos/sgonzalainen/datamad1020-rev/languages\n",
      "tamos redii\n",
      "Estoy haciendo request a https://api.github.com/repos/Pptrv/datamad1020-rev/languages\n",
      "tamos redii\n",
      "Estoy haciendo request a https://api.github.com/repos/Marxess/datamad1020-rev/languages\n",
      "tamos redii\n",
      "Estoy haciendo request a https://api.github.com/repos/patri-carrasco/datamad1020-rev/languages\n",
      "tamos redii\n",
      "Estoy haciendo request a https://api.github.com/repos/BlueJotas/datamad1020-rev/languages\n",
      "tamos redii\n",
      "Estoy haciendo request a https://api.github.com/repos/jvazquezgalvezlp/datamad1020-rev/languages\n",
      "tamos redii\n",
      "Estoy haciendo request a https://api.github.com/repos/leticia-sobrino/datamad1020-rev/languages\n",
      "tamos redii\n",
      "Estoy haciendo request a https://api.github.com/repos/JaimeCalcedo/datamad1020-rev/languages\n",
      "tamos redii\n"
     ]
    }
   ],
   "source": [
    "responses = []\n",
    "for enlace in lista_enlaces:\n",
    "    response = requestGithub(enlace)\n",
    "    responses.append(response)"
   ]
  },
  {
   "cell_type": "code",
   "execution_count": 38,
   "metadata": {},
   "outputs": [
    {
     "data": {
      "text/plain": [
       "['Jupyter Notebook', 'HTML', 'Python']"
      ]
     },
     "execution_count": 38,
     "metadata": {},
     "output_type": "execute_result"
    }
   ],
   "source": [
    "list(responses[0].keys())"
   ]
  },
  {
   "cell_type": "code",
   "execution_count": 62,
   "metadata": {},
   "outputs": [],
   "source": [
    "languages = set([language for elemento in responses for language in elemento.keys()])"
   ]
  },
  {
   "cell_type": "code",
   "execution_count": 63,
   "metadata": {},
   "outputs": [
    {
     "data": {
      "text/plain": [
       "{'HTML', 'Jupyter Notebook', 'Python'}"
      ]
     },
     "execution_count": 63,
     "metadata": {},
     "output_type": "execute_result"
    }
   ],
   "source": [
    "languages"
   ]
  }
 ],
 "metadata": {
  "kernelspec": {
   "display_name": "Python 3 (ipykernel)",
   "language": "python",
   "name": "python3"
  },
  "language_info": {
   "codemirror_mode": {
    "name": "ipython",
    "version": 3
   },
   "file_extension": ".py",
   "mimetype": "text/x-python",
   "name": "python",
   "nbconvert_exporter": "python",
   "pygments_lexer": "ipython3",
   "version": "3.12.2"
  },
  "toc": {
   "base_numbering": 1,
   "nav_menu": {},
   "number_sections": true,
   "sideBar": true,
   "skip_h1_title": true,
   "title_cell": "Table of Contents",
   "title_sidebar": "Contents",
   "toc_cell": false,
   "toc_position": {},
   "toc_section_display": true,
   "toc_window_display": true
  }
 },
 "nbformat": 4,
 "nbformat_minor": 4
}
